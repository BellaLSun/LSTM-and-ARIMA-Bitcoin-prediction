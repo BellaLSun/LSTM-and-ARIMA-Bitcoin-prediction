{
 "cells": [
  {
   "cell_type": "code",
   "execution_count": 1,
   "metadata": {},
   "outputs": [],
   "source": [
    "import pandas as pd\n",
    "from pandas import Series\n",
    "import math\n",
    "import requests\n",
    "import json\n",
    "from pandas import read_csv\n",
    "from pandas import datetime\n",
    "from matplotlib import pyplot\n",
    "from functools import partial\n",
    "from statsmodels.tsa.stattools import adfuller\n",
    "import pandas as pd\n",
    "import matplotlib.pyplot as plt\n",
    "import numpy as np\n",
    "from statsmodels.graphics.tsaplots import plot_acf, plot_pacf"
   ]
  },
  {
   "cell_type": "code",
   "execution_count": 4,
   "metadata": {},
   "outputs": [
    {
     "data": {
      "text/html": [
       "<div>\n",
       "<style scoped>\n",
       "    .dataframe tbody tr th:only-of-type {\n",
       "        vertical-align: middle;\n",
       "    }\n",
       "\n",
       "    .dataframe tbody tr th {\n",
       "        vertical-align: top;\n",
       "    }\n",
       "\n",
       "    .dataframe thead th {\n",
       "        text-align: right;\n",
       "    }\n",
       "</style>\n",
       "<table border=\"1\" class=\"dataframe\">\n",
       "  <thead>\n",
       "    <tr style=\"text-align: right;\">\n",
       "      <th></th>\n",
       "      <th>time</th>\n",
       "      <th>price</th>\n",
       "      <th>volume</th>\n",
       "    </tr>\n",
       "  </thead>\n",
       "  <tbody>\n",
       "    <tr>\n",
       "      <th>0</th>\n",
       "      <td>2013-03-28</td>\n",
       "      <td>86.4500</td>\n",
       "      <td>6200708.085</td>\n",
       "    </tr>\n",
       "    <tr>\n",
       "      <th>1</th>\n",
       "      <td>2013-03-29</td>\n",
       "      <td>88.1875</td>\n",
       "      <td>3733639.335</td>\n",
       "    </tr>\n",
       "    <tr>\n",
       "      <th>2</th>\n",
       "      <td>2013-03-30</td>\n",
       "      <td>91.1675</td>\n",
       "      <td>1728643.570</td>\n",
       "    </tr>\n",
       "    <tr>\n",
       "      <th>3</th>\n",
       "      <td>2013-03-31</td>\n",
       "      <td>92.5050</td>\n",
       "      <td>990090.160</td>\n",
       "    </tr>\n",
       "    <tr>\n",
       "      <th>4</th>\n",
       "      <td>2013-04-01</td>\n",
       "      <td>98.8175</td>\n",
       "      <td>4575292.720</td>\n",
       "    </tr>\n",
       "  </tbody>\n",
       "</table>\n",
       "</div>"
      ],
      "text/plain": [
       "        time    price       volume\n",
       "0 2013-03-28  86.4500  6200708.085\n",
       "1 2013-03-29  88.1875  3733639.335\n",
       "2 2013-03-30  91.1675  1728643.570\n",
       "3 2013-03-31  92.5050   990090.160\n",
       "4 2013-04-01  98.8175  4575292.720"
      ]
     },
     "execution_count": 4,
     "metadata": {},
     "output_type": "execute_result"
    }
   ],
   "source": [
    "bitcoin_series = pd.read_csv('../data/Bitcoin.csv')\n",
    "bitcoin_series.columns = ['time', 'price','volume']\n",
    "bitcoin_series['time'] = pd.to_datetime(bitcoin_series['time'])#, unit='s')\n",
    "bitcoin_series.head()"
   ]
  },
  {
   "cell_type": "markdown",
   "metadata": {},
   "source": [
    "## 时间序列的预测只能用一个dimension作为input吗？？？"
   ]
  },
  {
   "cell_type": "code",
   "execution_count": 6,
   "metadata": {},
   "outputs": [
    {
     "data": {
      "text/plain": [
       "time\n",
       "2013-03-28    86.4500\n",
       "2013-03-29    88.1875\n",
       "2013-03-30    91.1675\n",
       "2013-03-31    92.5050\n",
       "2013-04-01    98.8175\n",
       "Name: price, dtype: float64"
      ]
     },
     "execution_count": 6,
     "metadata": {},
     "output_type": "execute_result"
    }
   ],
   "source": [
    "bitcoin_series.set_index('time',inplace =True)\n",
    "ts = bitcoin_series['price']\n",
    "ts.head(5)"
   ]
  },
  {
   "cell_type": "markdown",
   "metadata": {},
   "source": [
    "### RMSE应该是 squart(sum/n)吧，但是他的结果看起来是只有一天的？？？"
   ]
  },
  {
   "cell_type": "code",
   "execution_count": 9,
   "metadata": {},
   "outputs": [
    {
     "data": {
      "text/plain": [
       "time\n",
       "2013-03-28    4.459566\n",
       "2013-03-29    4.479465\n",
       "2013-03-30    4.512698\n",
       "2013-03-31    4.527263\n",
       "2013-04-01    4.593275\n",
       "Name: price, dtype: float64"
      ]
     },
     "execution_count": 9,
     "metadata": {},
     "output_type": "execute_result"
    }
   ],
   "source": [
    "ts_log = np.log(ts)\n",
    "ts_log.head()"
   ]
  },
  {
   "cell_type": "markdown",
   "metadata": {},
   "source": [
    "### log -> differentiate -> modeling"
   ]
  },
  {
   "cell_type": "code",
   "execution_count": 10,
   "metadata": {},
   "outputs": [
    {
     "name": "stderr",
     "output_type": "stream",
     "text": [
      "/Users/libaisun/virtual/lib/python3.6/site-packages/statsmodels/tsa/base/tsa_model.py:171: ValueWarning: No frequency information was provided, so inferred frequency D will be used.\n",
      "  % freq, ValueWarning)\n"
     ]
    },
    {
     "data": {
      "text/plain": [
       "2018-06-28    0.002362\n",
       "2018-06-29    0.007552\n",
       "2018-06-30    0.010605\n",
       "2018-07-01    0.013649\n",
       "2018-07-02   -0.012322\n",
       "Freq: D, dtype: float64"
      ]
     },
     "execution_count": 10,
     "metadata": {},
     "output_type": "execute_result"
    }
   ],
   "source": [
    "diff_2 = ts_log.diff(1)\n",
    "diff_2.dropna(inplace=True)\n",
    "\n",
    "from statsmodels.tsa.arima_model import ARMA\n",
    "# model是基于数据进行过log / 差分处理之后建立的模型\n",
    "# 定阶：\n",
    "# model 没有体现是用哪些天算的啊？\n",
    "model = ARMA(diff_2, order=(4, 5))  \n",
    "results_AR = model.fit(disp=-1) \n",
    "#Prediction for 7 dyas\n",
    "start_ind = '2018-06-28'\n",
    "end_ind = '2018-07-4'\n",
    "# 预测7天\n",
    "predict = results_AR.predict(start =start_ind,end =end_ind)\n",
    "predict.head()"
   ]
  },
  {
   "cell_type": "code",
   "execution_count": 14,
   "metadata": {},
   "outputs": [
    {
     "data": {
      "text/plain": [
       "time\n",
       "2018-06-28    8.700737\n",
       "2018-06-29    8.700737\n",
       "2018-06-30    8.700737\n",
       "2018-07-01    8.700737\n",
       "2018-07-02    8.700737\n",
       "dtype: float64"
      ]
     },
     "execution_count": 14,
     "metadata": {},
     "output_type": "execute_result"
    }
   ],
   "source": [
    "predictions_ARIMA_diff = pd.Series(predict, copy=True)\n",
    "predictions_ARIMA_diff_cumsum = predictions_ARIMA_diff.cumsum()\n",
    "# 选择第一列\n",
    "predictions_ARIMA_log = pd.Series(ts_log[start_ind:end_ind].iloc[0], index=ts_log[start_ind:end_ind].index)\n",
    "predictions_ARIMA_log.head()\n",
    "# 是5天诶！\n",
    "# 而且为啥都是一样的？"
   ]
  },
  {
   "cell_type": "code",
   "execution_count": 15,
   "metadata": {},
   "outputs": [
    {
     "data": {
      "text/plain": [
       "Text(0.5,1,'RMSE: 12.7352')"
      ]
     },
     "execution_count": 15,
     "metadata": {},
     "output_type": "execute_result"
    },
    {
     "data": {
      "image/png": "[encoded data removed]",
      "text/plain": [
       "<Figure size 720x360 with 1 Axes>"
      ]
     },
     "metadata": {},
     "output_type": "display_data"
    }
   ],
   "source": [
    "# 30days\n",
    "feed_ts = ts['2018-05-27' : '2018-6-28']\n",
    "\n",
    "predictions_ARIMA_log = predictions_ARIMA_log.add(predictions_ARIMA_diff_cumsum,fill_value=0)\n",
    "# 原来进行了log，现在exp回去\n",
    "# 但是差分回去了吗？？？\n",
    "predictions_ARIMA = np.exp(predictions_ARIMA_log)\n",
    "plt.figure(figsize=(10,5))\n",
    "plt.plot(feed_ts)\n",
    "plt.plot(predictions_ARIMA)\n",
    "plt.title('RMSE: %.4f'% np.sqrt(sum((predictions_ARIMA-ts[start_ind:end_ind])**2)/ts.size))"
   ]
  },
  {
   "cell_type": "markdown",
   "metadata": {},
   "source": [
    "## 以上，哪里体现了model是用30days train的呢？"
   ]
  },
  {
   "cell_type": "markdown",
   "metadata": {},
   "source": [
    "- 数据显示，他的模型没有用不同的天数train，因为7/14/30 days，他同一天的预测都是一样的\n",
    "- RMSE的计算公式貌似也不对"
   ]
  },
  {
   "cell_type": "code",
   "execution_count": 2,
   "metadata": {},
   "outputs": [],
   "source": [
    "from statsmodels.tsa.arima_model import ARIMA"
   ]
  },
  {
   "cell_type": "code",
   "execution_count": 3,
   "metadata": {},
   "outputs": [
    {
     "name": "stdout",
     "output_type": "stream",
     "text": [
      "Help on class ARIMA in module statsmodels.tsa.arima_model:\n",
      "\n",
      "class ARIMA(ARMA)\n",
      " |  Autoregressive Integrated Moving Average ARIMA(p,d,q) Model\n",
      " |  \n",
      " |  Parameters\n",
      " |  ----------\n",
      " |  endog : array-like\n",
      " |      The endogenous variable.\n",
      " |  order : iterable\n",
      " |      The (p,d,q) order of the model for the number of AR parameters,\n",
      " |      differences, and MA parameters to use.\n",
      " |  exog : array-like, optional\n",
      " |      An optional array of exogenous variables. This should *not* include a\n",
      " |      constant or trend. You can specify this in the `fit` method.\n",
      " |  dates : array-like of datetime, optional\n",
      " |      An array-like object of datetime objects. If a pandas object is given\n",
      " |      for endog or exog, it is assumed to have a DateIndex.\n",
      " |  freq : str, optional\n",
      " |      The frequency of the time-series. A Pandas offset or 'B', 'D', 'W',\n",
      " |      'M', 'A', or 'Q'. This is optional if dates are given.\n",
      " |  \n",
      " |  \n",
      " |  Notes\n",
      " |  -----\n",
      " |  If exogenous variables are given, then the model that is fit is\n",
      " |  \n",
      " |  .. math::\n",
      " |  \n",
      " |     \\phi(L)(y_t - X_t\\beta) = \\theta(L)\\epsilon_t\n",
      " |  \n",
      " |  where :math:`\\phi` and :math:`\\theta` are polynomials in the lag\n",
      " |  operator, :math:`L`. This is the regression model with ARMA errors,\n",
      " |  or ARMAX model. This specification is used, whether or not the model\n",
      " |  is fit using conditional sum of square or maximum-likelihood, using\n",
      " |  the `method` argument in\n",
      " |  :meth:`statsmodels.tsa.arima_model.ARIMA.fit`. Therefore, for\n",
      " |  now, `css` and `mle` refer to estimation methods only. This may\n",
      " |  change for the case of the `css` model in future versions.\n",
      " |  \n",
      " |  Method resolution order:\n",
      " |      ARIMA\n",
      " |      ARMA\n",
      " |      statsmodels.tsa.base.tsa_model.TimeSeriesModel\n",
      " |      statsmodels.base.model.LikelihoodModel\n",
      " |      statsmodels.base.model.Model\n",
      " |      builtins.object\n",
      " |  \n",
      " |  Methods defined here:\n",
      " |  \n",
      " |  __getnewargs__(self)\n",
      " |  \n",
      " |  __init__(self, endog, order, exog=None, dates=None, freq=None, missing='none')\n",
      " |      Initialize self.  See help(type(self)) for accurate signature.\n",
      " |  \n",
      " |  fit(self, start_params=None, trend='c', method='css-mle', transparams=True, solver='lbfgs', maxiter=500, full_output=1, disp=5, callback=None, start_ar_lags=None, **kwargs)\n",
      " |      Fits ARIMA(p,d,q) model by exact maximum likelihood via Kalman filter.\n",
      " |      \n",
      " |      Parameters\n",
      " |      ----------\n",
      " |      start_params : array-like, optional\n",
      " |          Starting parameters for ARMA(p,q).  If None, the default is given\n",
      " |          by ARMA._fit_start_params.  See there for more information.\n",
      " |      transparams : bool, optional\n",
      " |          Whehter or not to transform the parameters to ensure stationarity.\n",
      " |          Uses the transformation suggested in Jones (1980).  If False,\n",
      " |          no checking for stationarity or invertibility is done.\n",
      " |      method : str {'css-mle','mle','css'}\n",
      " |          This is the loglikelihood to maximize.  If \"css-mle\", the\n",
      " |          conditional sum of squares likelihood is maximized and its values\n",
      " |          are used as starting values for the computation of the exact\n",
      " |          likelihood via the Kalman filter.  If \"mle\", the exact likelihood\n",
      " |          is maximized via the Kalman Filter.  If \"css\" the conditional sum\n",
      " |          of squares likelihood is maximized.  All three methods use\n",
      " |          `start_params` as starting parameters.  See above for more\n",
      " |          information.\n",
      " |      trend : str {'c','nc'}\n",
      " |          Whether to include a constant or not.  'c' includes constant,\n",
      " |          'nc' no constant.\n",
      " |      solver : str or None, optional\n",
      " |          Solver to be used.  The default is 'lbfgs' (limited memory\n",
      " |          Broyden-Fletcher-Goldfarb-Shanno).  Other choices are 'bfgs',\n",
      " |          'newton' (Newton-Raphson), 'nm' (Nelder-Mead), 'cg' -\n",
      " |          (conjugate gradient), 'ncg' (non-conjugate gradient), and\n",
      " |          'powell'. By default, the limited memory BFGS uses m=12 to\n",
      " |          approximate the Hessian, projected gradient tolerance of 1e-8 and\n",
      " |          factr = 1e2. You can change these by using kwargs.\n",
      " |      maxiter : int, optional\n",
      " |          The maximum number of function evaluations. Default is 500.\n",
      " |      tol : float\n",
      " |          The convergence tolerance.  Default is 1e-08.\n",
      " |      full_output : bool, optional\n",
      " |          If True, all output from solver will be available in\n",
      " |          the Results object's mle_retvals attribute.  Output is dependent\n",
      " |          on the solver.  See Notes for more information.\n",
      " |      disp : int, optional\n",
      " |          If True, convergence information is printed.  For the default\n",
      " |          l_bfgs_b solver, disp controls the frequency of the output during\n",
      " |          the iterations. disp < 0 means no output in this case.\n",
      " |      callback : function, optional\n",
      " |          Called after each iteration as callback(xk) where xk is the current\n",
      " |          parameter vector.\n",
      " |      start_ar_lags : int, optional\n",
      " |          Parameter for fitting start_params. When fitting start_params,\n",
      " |          residuals are obtained from an AR fit, then an ARMA(p,q) model is\n",
      " |          fit via OLS using these residuals. If start_ar_lags is None, fit\n",
      " |          an AR process according to best BIC. If start_ar_lags is not None,\n",
      " |          fits an AR process with a lag length equal to start_ar_lags.\n",
      " |          See ARMA._fit_start_params_hr for more information.\n",
      " |      kwargs\n",
      " |          See Notes for keyword arguments that can be passed to fit.\n",
      " |      \n",
      " |      Returns\n",
      " |      -------\n",
      " |      `statsmodels.tsa.arima.ARIMAResults` class\n",
      " |      \n",
      " |      See also\n",
      " |      --------\n",
      " |      statsmodels.base.model.LikelihoodModel.fit : for more information\n",
      " |          on using the solvers.\n",
      " |      ARIMAResults : results class returned by fit\n",
      " |      \n",
      " |      Notes\n",
      " |      ------\n",
      " |      If fit by 'mle', it is assumed for the Kalman Filter that the initial\n",
      " |      unkown state is zero, and that the inital variance is\n",
      " |      P = dot(inv(identity(m**2)-kron(T,T)),dot(R,R.T).ravel('F')).reshape(r,\n",
      " |      r, order = 'F')\n",
      " |  \n",
      " |  predict(self, params, start=None, end=None, exog=None, typ='linear', dynamic=False)\n",
      " |      ARIMA model in-sample and out-of-sample prediction\n",
      " |      \n",
      " |      Parameters\n",
      " |      ----------\n",
      " |      params : array-like\n",
      " |          The fitted parameters of the model.\n",
      " |      start : int, str, or datetime\n",
      " |          Zero-indexed observation number at which to start forecasting, ie.,\n",
      " |          the first forecast is start. Can also be a date string to\n",
      " |          parse or a datetime type.\n",
      " |      end : int, str, or datetime\n",
      " |          Zero-indexed observation number at which to end forecasting, ie.,\n",
      " |          the first forecast is start. Can also be a date string to\n",
      " |          parse or a datetime type. However, if the dates index does not\n",
      " |          have a fixed frequency, end must be an integer index if you\n",
      " |          want out of sample prediction.\n",
      " |      exog : array-like, optional\n",
      " |          If the model is an ARMAX and out-of-sample forecasting is\n",
      " |          requested, exog must be given. Note that you'll need to pass\n",
      " |          `k_ar` additional lags for any exogenous variables. E.g., if you\n",
      " |          fit an ARMAX(2, q) model and want to predict 5 steps, you need 7\n",
      " |          observations to do this.\n",
      " |      dynamic : bool, optional\n",
      " |          The `dynamic` keyword affects in-sample prediction. If dynamic\n",
      " |          is False, then the in-sample lagged values are used for\n",
      " |          prediction. If `dynamic` is True, then in-sample forecasts are\n",
      " |          used in place of lagged dependent variables. The first forecasted\n",
      " |          value is `start`.\n",
      " |      typ : str {'linear', 'levels'}\n",
      " |      \n",
      " |          - 'linear' : Linear prediction in terms of the differenced\n",
      " |            endogenous variables.\n",
      " |          - 'levels' : Predict the levels of the original endogenous\n",
      " |            variables.\n",
      " |      \n",
      " |      \n",
      " |      Returns\n",
      " |      -------\n",
      " |      predict : array\n",
      " |          The predicted values.\n",
      " |      \n",
      " |      \n",
      " |      \n",
      " |      Notes\n",
      " |      -----\n",
      " |      Use the results predict method instead.\n",
      " |  \n",
      " |  ----------------------------------------------------------------------\n",
      " |  Static methods defined here:\n",
      " |  \n",
      " |  __new__(cls, endog, order, exog=None, dates=None, freq=None, missing='none')\n",
      " |      Create and return a new object.  See help(type) for accurate signature.\n",
      " |  \n",
      " |  ----------------------------------------------------------------------\n",
      " |  Methods inherited from ARMA:\n",
      " |  \n",
      " |  geterrors(self, params)\n",
      " |      Get the errors of the ARMA process.\n",
      " |      \n",
      " |      Parameters\n",
      " |      ----------\n",
      " |      params : array-like\n",
      " |          The fitted ARMA parameters\n",
      " |      order : array-like\n",
      " |          3 item iterable, with the number of AR, MA, and exogenous\n",
      " |          parameters, including the trend\n",
      " |  \n",
      " |  hessian(self, params)\n",
      " |      Compute the Hessian at params,\n",
      " |      \n",
      " |      Notes\n",
      " |      -----\n",
      " |      This is a numerical approximation.\n",
      " |  \n",
      " |  loglike(self, params, set_sigma2=True)\n",
      " |      Compute the log-likelihood for ARMA(p,q) model\n",
      " |      \n",
      " |      Notes\n",
      " |      -----\n",
      " |      Likelihood used depends on the method set in fit\n",
      " |  \n",
      " |  loglike_css(self, params, set_sigma2=True)\n",
      " |      Conditional Sum of Squares likelihood function.\n",
      " |  \n",
      " |  loglike_kalman(self, params, set_sigma2=True)\n",
      " |      Compute exact loglikelihood for ARMA(p,q) model by the Kalman Filter.\n",
      " |  \n",
      " |  score(self, params)\n",
      " |      Compute the score function at params.\n",
      " |      \n",
      " |      Notes\n",
      " |      -----\n",
      " |      This is a numerical approximation.\n",
      " |  \n",
      " |  ----------------------------------------------------------------------\n",
      " |  Class methods inherited from ARMA:\n",
      " |  \n",
      " |  from_formula(formula, data, subset=None, drop_cols=None, *args, **kwargs) from builtins.type\n",
      " |      Create a Model from a formula and dataframe.\n",
      " |      \n",
      " |      Parameters\n",
      " |      ----------\n",
      " |      formula : str or generic Formula object\n",
      " |          The formula specifying the model\n",
      " |      data : array-like\n",
      " |          The data for the model. See Notes.\n",
      " |      subset : array-like\n",
      " |          An array-like object of booleans, integers, or index values that\n",
      " |          indicate the subset of df to use in the model. Assumes df is a\n",
      " |          `pandas.DataFrame`\n",
      " |      drop_cols : array-like\n",
      " |          Columns to drop from the design matrix.  Cannot be used to\n",
      " |          drop terms involving categoricals.\n",
      " |      args : extra arguments\n",
      " |          These are passed to the model\n",
      " |      kwargs : extra keyword arguments\n",
      " |          These are passed to the model with one exception. The\n",
      " |          ``eval_env`` keyword is passed to patsy. It can be either a\n",
      " |          :class:`patsy:patsy.EvalEnvironment` object or an integer\n",
      " |          indicating the depth of the namespace to use. For example, the\n",
      " |          default ``eval_env=0`` uses the calling namespace. If you wish\n",
      " |          to use a \"clean\" environment set ``eval_env=-1``.\n",
      " |      \n",
      " |      Returns\n",
      " |      -------\n",
      " |      model : Model instance\n",
      " |      \n",
      " |      Notes\n",
      " |      ------\n",
      " |      data must define __getitem__ with the keys in the formula terms\n",
      " |      args and kwargs are passed on to the model instantiation. E.g.,\n",
      " |      a numpy structured or rec array, a dictionary, or a pandas DataFrame.\n",
      " |  \n",
      " |  ----------------------------------------------------------------------\n",
      " |  Data descriptors inherited from statsmodels.tsa.base.tsa_model.TimeSeriesModel:\n",
      " |  \n",
      " |  exog_names\n",
      " |  \n",
      " |  ----------------------------------------------------------------------\n",
      " |  Methods inherited from statsmodels.base.model.LikelihoodModel:\n",
      " |  \n",
      " |  information(self, params)\n",
      " |      Fisher information matrix of model\n",
      " |      \n",
      " |      Returns -Hessian of loglike evaluated at params.\n",
      " |  \n",
      " |  initialize(self)\n",
      " |      Initialize (possibly re-initialize) a Model instance. For\n",
      " |      instance, the design matrix of a linear model may change\n",
      " |      and some things must be recomputed.\n",
      " |  \n",
      " |  ----------------------------------------------------------------------\n",
      " |  Data descriptors inherited from statsmodels.base.model.Model:\n",
      " |  \n",
      " |  __dict__\n",
      " |      dictionary for instance variables (if defined)\n",
      " |  \n",
      " |  __weakref__\n",
      " |      list of weak references to the object (if defined)\n",
      " |  \n",
      " |  endog_names\n",
      " |      Names of endogenous variables\n",
      "\n"
     ]
    }
   ],
   "source": [
    "help(ARIMA)"
   ]
  },
  {
   "cell_type": "code",
   "execution_count": 4,
   "metadata": {},
   "outputs": [],
   "source": [
    "a = [1, 2, 3]\n",
    "b = [4, 5, 6]"
   ]
  },
  {
   "cell_type": "code",
   "execution_count": 6,
   "metadata": {},
   "outputs": [
    {
     "data": {
      "text/plain": [
       "array([[[1, 4],\n",
       "        [2, 5],\n",
       "        [3, 6]]])"
      ]
     },
     "execution_count": 6,
     "metadata": {},
     "output_type": "execute_result"
    }
   ],
   "source": [
    "import numpy as np\n",
    "data = np.dstack([a, b])\n",
    "data"
   ]
  },
  {
   "cell_type": "code",
   "execution_count": 7,
   "metadata": {},
   "outputs": [
    {
     "data": {
      "text/plain": [
       "(1, 3, 2)"
      ]
     },
     "execution_count": 7,
     "metadata": {},
     "output_type": "execute_result"
    }
   ],
   "source": [
    "data.shape"
   ]
  },
  {
   "cell_type": "code",
   "execution_count": 10,
   "metadata": {},
   "outputs": [
    {
     "data": {
      "text/html": [
       "<div>\n",
       "<style scoped>\n",
       "    .dataframe tbody tr th:only-of-type {\n",
       "        vertical-align: middle;\n",
       "    }\n",
       "\n",
       "    .dataframe tbody tr th {\n",
       "        vertical-align: top;\n",
       "    }\n",
       "\n",
       "    .dataframe thead th {\n",
       "        text-align: right;\n",
       "    }\n",
       "</style>\n",
       "<table border=\"1\" class=\"dataframe\">\n",
       "  <thead>\n",
       "    <tr style=\"text-align: right;\">\n",
       "      <th></th>\n",
       "      <th>0</th>\n",
       "    </tr>\n",
       "  </thead>\n",
       "  <tbody>\n",
       "    <tr>\n",
       "      <th>0</th>\n",
       "      <td>NaN</td>\n",
       "    </tr>\n",
       "    <tr>\n",
       "      <th>1</th>\n",
       "      <td>1.0</td>\n",
       "    </tr>\n",
       "    <tr>\n",
       "      <th>2</th>\n",
       "      <td>2.0</td>\n",
       "    </tr>\n",
       "  </tbody>\n",
       "</table>\n",
       "</div>"
      ],
      "text/plain": [
       "     0\n",
       "0  NaN\n",
       "1  1.0\n",
       "2  2.0"
      ]
     },
     "execution_count": 10,
     "metadata": {},
     "output_type": "execute_result"
    }
   ],
   "source": [
    "import pandas as pd\n",
    "c = pd.DataFrame(a).shift(1)\n",
    "c"
   ]
  },
  {
   "cell_type": "code",
   "execution_count": null,
   "metadata": {},
   "outputs": [],
   "source": []
  }
 ],
 "metadata": {
  "kernelspec": {
   "display_name": "Python 3",
   "language": "python",
   "name": "python3"
  },
  "language_info": {
   "codemirror_mode": {
    "name": "ipython",
    "version": 3
   },
   "file_extension": ".py",
   "mimetype": "text/x-python",
   "name": "python",
   "nbconvert_exporter": "python",
   "pygments_lexer": "ipython3",
   "version": "3.6.5"
  }
 },
 "nbformat": 4,
 "nbformat_minor": 2
}
