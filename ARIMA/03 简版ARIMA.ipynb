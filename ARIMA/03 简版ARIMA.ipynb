{
 "cells": [
  {
   "cell_type": "markdown",
   "metadata": {},
   "source": [
    "# Read Data"
   ]
  },
  {
   "cell_type": "code",
   "execution_count": 4,
   "metadata": {},
   "outputs": [],
   "source": [
    "import pandas as pd\n",
    "from pandas import read_csv\n",
    "from pandas import datetime\n",
    "from matplotlib import pyplot\n",
    "from functools import partial\n",
    "from statsmodels.tsa.stattools import adfuller\n",
    "import matplotlib.pyplot as plt\n",
    "import numpy as np\n",
    "from statsmodels.graphics.tsaplots import plot_acf, plot_pacf\n",
    "import json\n",
    "import requests"
   ]
  },
  {
   "cell_type": "code",
   "execution_count": 5,
   "metadata": {},
   "outputs": [
    {
     "data": {
      "text/html": [
       "<div>\n",
       "<style scoped>\n",
       "    .dataframe tbody tr th:only-of-type {\n",
       "        vertical-align: middle;\n",
       "    }\n",
       "\n",
       "    .dataframe tbody tr th {\n",
       "        vertical-align: top;\n",
       "    }\n",
       "\n",
       "    .dataframe thead th {\n",
       "        text-align: right;\n",
       "    }\n",
       "</style>\n",
       "<table border=\"1\" class=\"dataframe\">\n",
       "  <thead>\n",
       "    <tr style=\"text-align: right;\">\n",
       "      <th></th>\n",
       "      <th>close</th>\n",
       "      <th>high</th>\n",
       "      <th>low</th>\n",
       "      <th>open</th>\n",
       "      <th>volumefrom</th>\n",
       "      <th>volumeto</th>\n",
       "    </tr>\n",
       "    <tr>\n",
       "      <th>time</th>\n",
       "      <th></th>\n",
       "      <th></th>\n",
       "      <th></th>\n",
       "      <th></th>\n",
       "      <th></th>\n",
       "      <th></th>\n",
       "    </tr>\n",
       "  </thead>\n",
       "  <tbody>\n",
       "    <tr>\n",
       "      <th>2013-05-30</th>\n",
       "      <td>128.80</td>\n",
       "      <td>132.40</td>\n",
       "      <td>126.50</td>\n",
       "      <td>132.25</td>\n",
       "      <td>24699.41</td>\n",
       "      <td>3195601.21</td>\n",
       "    </tr>\n",
       "    <tr>\n",
       "      <th>2013-05-31</th>\n",
       "      <td>128.82</td>\n",
       "      <td>130.00</td>\n",
       "      <td>126.33</td>\n",
       "      <td>128.80</td>\n",
       "      <td>16576.17</td>\n",
       "      <td>2124938.29</td>\n",
       "    </tr>\n",
       "    <tr>\n",
       "      <th>2013-06-01</th>\n",
       "      <td>129.30</td>\n",
       "      <td>129.79</td>\n",
       "      <td>127.10</td>\n",
       "      <td>128.82</td>\n",
       "      <td>6357.50</td>\n",
       "      <td>816323.15</td>\n",
       "    </tr>\n",
       "    <tr>\n",
       "      <th>2013-06-02</th>\n",
       "      <td>122.50</td>\n",
       "      <td>130.10</td>\n",
       "      <td>115.00</td>\n",
       "      <td>129.30</td>\n",
       "      <td>101134.67</td>\n",
       "      <td>12335011.09</td>\n",
       "    </tr>\n",
       "    <tr>\n",
       "      <th>2013-06-03</th>\n",
       "      <td>120.74</td>\n",
       "      <td>122.78</td>\n",
       "      <td>115.11</td>\n",
       "      <td>122.50</td>\n",
       "      <td>28898.42</td>\n",
       "      <td>3439235.99</td>\n",
       "    </tr>\n",
       "  </tbody>\n",
       "</table>\n",
       "</div>"
      ],
      "text/plain": [
       "             close    high     low    open  volumefrom     volumeto\n",
       "time                                                               \n",
       "2013-05-30  128.80  132.40  126.50  132.25    24699.41   3195601.21\n",
       "2013-05-31  128.82  130.00  126.33  128.80    16576.17   2124938.29\n",
       "2013-06-01  129.30  129.79  127.10  128.82     6357.50    816323.15\n",
       "2013-06-02  122.50  130.10  115.00  129.30   101134.67  12335011.09\n",
       "2013-06-03  120.74  122.78  115.11  122.50    28898.42   3439235.99"
      ]
     },
     "execution_count": 5,
     "metadata": {},
     "output_type": "execute_result"
    }
   ],
   "source": [
    "# API of Cryptographic currency in json format\n",
    "url = 'https://min-api.cryptocompare.com/data/histoday'\n",
    "res = requests.get(url + '?fsym=BTC&tsym=USD&limit=2000')\n",
    "# AUD train model时，会出现loss = NAN的情况。但是不知道为什么\n",
    "hist = pd.DataFrame(json.loads(res.content)['Data'])\n",
    "hist = hist.set_index('time')\n",
    "hist.index = pd.to_datetime(hist.index, unit='s')\n",
    "hist.head()"
   ]
  },
  {
   "cell_type": "markdown",
   "metadata": {},
   "source": [
    "### Transform dataset to one feature"
   ]
  },
  {
   "cell_type": "code",
   "execution_count": 6,
   "metadata": {},
   "outputs": [
    {
     "data": {
      "text/plain": [
       "time\n",
       "2013-05-30    128.80\n",
       "2013-05-31    128.82\n",
       "2013-06-01    129.30\n",
       "2013-06-02    122.50\n",
       "2013-06-03    120.74\n",
       "Name: close, dtype: float64"
      ]
     },
     "execution_count": 6,
     "metadata": {},
     "output_type": "execute_result"
    }
   ],
   "source": [
    "ts = hist['close']\n",
    "ts.head()"
   ]
  },
  {
   "cell_type": "markdown",
   "metadata": {},
   "source": [
    "### ARIMA Stationary test"
   ]
  },
  {
   "cell_type": "code",
   "execution_count": 7,
   "metadata": {},
   "outputs": [],
   "source": [
    "def testStationarity(ts):\n",
    "    dftest = adfuller(ts)\n",
    "    # 对上述函数求得的值进行语义描述\n",
    "    dfoutput = pd.Series(dftest[0:4], index=['Test Statistic','p-value','#Lags Used','Number of Observations Used'])\n",
    "    for key,value in dftest[4].items():\n",
    "        dfoutput['Critical Value (%s)'%key] = value\n",
    "    return dfoutput"
   ]
  },
  {
   "cell_type": "code",
   "execution_count": 8,
   "metadata": {},
   "outputs": [
    {
     "data": {
      "text/plain": [
       "Test Statistic                   -1.891696\n",
       "p-value                           0.335977\n",
       "#Lags Used                       20.000000\n",
       "Number of Observations Used    1980.000000\n",
       "Critical Value (1%)              -3.433657\n",
       "Critical Value (5%)              -2.863001\n",
       "Critical Value (10%)             -2.567548\n",
       "dtype: float64"
      ]
     },
     "execution_count": 8,
     "metadata": {},
     "output_type": "execute_result"
    }
   ],
   "source": [
    "# not Stationarity\n",
    "testStationarity(ts)"
   ]
  },
  {
   "cell_type": "markdown",
   "metadata": {},
   "source": [
    "### first difference"
   ]
  },
  {
   "cell_type": "code",
   "execution_count": 9,
   "metadata": {},
   "outputs": [],
   "source": [
    "ts_diff = ts.diff(1).dropna()"
   ]
  },
  {
   "cell_type": "code",
   "execution_count": 10,
   "metadata": {},
   "outputs": [
    {
     "data": {
      "text/plain": [
       "Test Statistic                -8.154092e+00\n",
       "p-value                        9.522637e-13\n",
       "#Lags Used                     2.600000e+01\n",
       "Number of Observations Used    1.973000e+03\n",
       "Critical Value (1%)           -3.433669e+00\n",
       "Critical Value (5%)           -2.863006e+00\n",
       "Critical Value (10%)          -2.567550e+00\n",
       "dtype: float64"
      ]
     },
     "execution_count": 10,
     "metadata": {},
     "output_type": "execute_result"
    }
   ],
   "source": [
    "# stationary\n",
    "testStationarity(ts_diff)"
   ]
  },
  {
   "cell_type": "markdown",
   "metadata": {},
   "source": [
    "### Draw acf & pcaf"
   ]
  },
  {
   "cell_type": "code",
   "execution_count": 11,
   "metadata": {},
   "outputs": [],
   "source": [
    "# 自相关和偏相关图，默认阶数为31阶\n",
    "def draw_acf_pacf(ts, lags=31):\n",
    "    f = plt.figure(facecolor='white')\n",
    "    ax1 = f.add_subplot(211)\n",
    "    plot_acf(ts, lags=31, ax=ax1)\n",
    "    ax2 = f.add_subplot(212)\n",
    "    plot_pacf(ts, lags=31, ax=ax2)\n",
    "    plt.show()"
   ]
  },
  {
   "cell_type": "code",
   "execution_count": 12,
   "metadata": {},
   "outputs": [
    {
     "data": {
      "image/png": "[encoded data removed]",
      "text/plain": [
       "<Figure size 432x288 with 2 Axes>"
      ]
     },
     "metadata": {},
     "output_type": "display_data"
    }
   ],
   "source": [
    "draw_acf_pacf(ts)"
   ]
  },
  {
   "cell_type": "code",
   "execution_count": 13,
   "metadata": {},
   "outputs": [
    {
     "data": {
      "image/png": "[encoded data removed]",
      "text/plain": [
       "<Figure size 432x288 with 2 Axes>"
      ]
     },
     "metadata": {},
     "output_type": "display_data"
    }
   ],
   "source": [
    "draw_acf_pacf(ts_diff)"
   ]
  },
  {
   "cell_type": "markdown",
   "metadata": {},
   "source": [
    "**初步认为，p=2, q = 2**"
   ]
  },
  {
   "cell_type": "markdown",
   "metadata": {},
   "source": [
    "### Split train and test data"
   ]
  },
  {
   "cell_type": "code",
   "execution_count": 14,
   "metadata": {},
   "outputs": [],
   "source": [
    "from datetime import datetime,timedelta\n",
    "import pandas as pd\n",
    "date = datetime(year=2018, month=6, day=18)\n",
    "date_end = date+timedelta(days=6)"
   ]
  },
  {
   "cell_type": "code",
   "execution_count": 15,
   "metadata": {},
   "outputs": [],
   "source": [
    "# train\n",
    "dataset = ts[:date]\n",
    "# test\n",
    "validation = pd.DataFrame(ts[date:date_end])"
   ]
  },
  {
   "cell_type": "markdown",
   "metadata": {},
   "source": [
    "### Model"
   ]
  },
  {
   "cell_type": "code",
   "execution_count": 16,
   "metadata": {},
   "outputs": [],
   "source": [
    "import sys\n",
    "import warnings\n",
    "if not sys.warnoptions:\n",
    "    warnings.simplefilter(\"ignore\")\n",
    "    \n",
    "from statsmodels.tsa.arima_model import ARIMA\n",
    "# fit model\n",
    "model = ARIMA(ts, order=(2,1,2))\n",
    "# disp controls the frequency of the output during the iterations. disp < 0 means no output in this case.\n",
    "model_fit = model.fit()\n",
    "# multi-step out-of-sample forecast\n",
    "forecast = model_fit.forecast(steps=7)[0]\n",
    "perdict = model_fit.predict(start =date,end =date_end)"
   ]
  },
  {
   "cell_type": "code",
   "execution_count": 17,
   "metadata": {},
   "outputs": [
    {
     "data": {
      "text/plain": [
       "6714.82"
      ]
     },
     "execution_count": 17,
     "metadata": {},
     "output_type": "execute_result"
    }
   ],
   "source": [
    "dataset[-1]"
   ]
  },
  {
   "cell_type": "code",
   "execution_count": 18,
   "metadata": {},
   "outputs": [
    {
     "data": {
      "text/plain": [
       "2018-06-18   -20.385076\n",
       "2018-06-19    32.638879\n",
       "2018-06-20   -24.114457\n",
       "2018-06-21    22.206493\n",
       "2018-06-22   -19.559317\n",
       "2018-06-23   -35.022951\n",
       "2018-06-24    30.123336\n",
       "Freq: D, dtype: float64"
      ]
     },
     "execution_count": 18,
     "metadata": {},
     "output_type": "execute_result"
    }
   ],
   "source": [
    "perdict"
   ]
  },
  {
   "cell_type": "code",
   "execution_count": 19,
   "metadata": {},
   "outputs": [
    {
     "data": {
      "text/plain": [
       "2018-06-18   -20.385076\n",
       "2018-06-19    12.253803\n",
       "2018-06-20   -11.860653\n",
       "2018-06-21    10.345840\n",
       "2018-06-22    -9.213477\n",
       "2018-06-23   -44.236428\n",
       "2018-06-24   -14.113091\n",
       "Freq: D, dtype: float64"
      ]
     },
     "execution_count": 19,
     "metadata": {},
     "output_type": "execute_result"
    }
   ],
   "source": [
    "diff_sum = perdict.cumsum()\n",
    "diff_sum"
   ]
  },
  {
   "cell_type": "code",
   "execution_count": 20,
   "metadata": {},
   "outputs": [
    {
     "data": {
      "text/plain": [
       "2018-06-18    6694.434924\n",
       "2018-06-19    6727.073803\n",
       "2018-06-20    6702.959347\n",
       "2018-06-21    6725.165840\n",
       "2018-06-22    6705.606523\n",
       "2018-06-23    6670.583572\n",
       "2018-06-24    6700.706909\n",
       "Freq: D, dtype: float64"
      ]
     },
     "execution_count": 20,
     "metadata": {},
     "output_type": "execute_result"
    }
   ],
   "source": [
    "perdict = dataset[-1] + diff_sum\n",
    "perdict"
   ]
  },
  {
   "cell_type": "code",
   "execution_count": 21,
   "metadata": {},
   "outputs": [
    {
     "data": {
      "text/plain": [
       "array([4977.80082945, 4938.49329828, 4960.07356281, 4937.68942976,\n",
       "       4949.01775663, 4936.30747931, 4942.31004245])"
      ]
     },
     "execution_count": 21,
     "metadata": {},
     "output_type": "execute_result"
    }
   ],
   "source": [
    "forecast"
   ]
  },
  {
   "cell_type": "code",
   "execution_count": 22,
   "metadata": {},
   "outputs": [
    {
     "name": "stdout",
     "output_type": "stream",
     "text": [
      "forecast RMSE: 1553.6472\n",
      "predict RMSE:374.3112\n"
     ]
    }
   ],
   "source": [
    "print('forecast RMSE: %.4f'% np.sqrt(mean_squared_error(forecast,validation)))\n",
    "print('predict RMSE:%.4f'%np.sqrt(mean_squared_error(perdict.values,validation)))"
   ]
  },
  {
   "cell_type": "code",
   "execution_count": 30,
   "metadata": {},
   "outputs": [],
   "source": [
    "from sklearn.metrics import mean_squared_error\n",
    "def plot_comparision(true, predict,preds):\n",
    "    fig, ax = plt.subplots(1, figsize=(6, 4))\n",
    "    x_date = [i for i in true.index]\n",
    "    ax.plot(x_date,predict,color='blue', label='Forecast')\n",
    "    ax.plot(x_date,true,color='red', label='Original')\n",
    "    ax.plot(x_date,preds,color='green', label='Predict')\n",
    "    plt.legend(loc='best')\n",
    "    plt.xticks(rotation=60)\n",
    "    plt.title('RMSE: %.4f'% np.sqrt(mean_squared_error(predict.values,true.values))+'\\n'+\n",
    "             'predict RMSE: %.4f'% np.sqrt(mean_squared_error(preds.values,true.values)))\n",
    "    plt.show()"
   ]
  },
  {
   "cell_type": "code",
   "execution_count": 24,
   "metadata": {},
   "outputs": [],
   "source": [
    "forecast = pd.DataFrame(forecast)\n",
    "forecast['time'] = validation.index\n",
    "forecast = forecast.set_index('time')\n",
    "forecast.columns = ['prediction']"
   ]
  },
  {
   "cell_type": "code",
   "execution_count": 29,
   "metadata": {},
   "outputs": [
    {
     "data": {
      "text/plain": [
       "2018-06-18    6694.434924\n",
       "2018-06-19    6727.073803\n",
       "2018-06-20    6702.959347\n",
       "2018-06-21    6725.165840\n",
       "2018-06-22    6705.606523\n",
       "2018-06-23    6670.583572\n",
       "2018-06-24    6700.706909\n",
       "Freq: D, dtype: float64"
      ]
     },
     "execution_count": 29,
     "metadata": {},
     "output_type": "execute_result"
    }
   ],
   "source": [
    "perdict"
   ]
  },
  {
   "cell_type": "code",
   "execution_count": 31,
   "metadata": {},
   "outputs": [
    {
     "data": {
      "image/png": "[encoded data removed]",
      "text/plain": [
       "<Figure size 432x288 with 1 Axes>"
      ]
     },
     "metadata": {},
     "output_type": "display_data"
    }
   ],
   "source": [
    "plot_comparision(validation, forecast,perdict)"
   ]
  },
  {
   "cell_type": "markdown",
   "metadata": {},
   "source": [
    "### Next ->  Log + difference"
   ]
  },
  {
   "cell_type": "markdown",
   "metadata": {},
   "source": [
    "# Reference"
   ]
  },
  {
   "cell_type": "markdown",
   "metadata": {},
   "source": [
    "https://machinelearningmastery.com/make-sample-forecasts-arima-python/"
   ]
  },
  {
   "cell_type": "markdown",
   "metadata": {},
   "source": [
    "- How to make a one-step out-of-sample forecast.\n",
    "- How to make a multi-step out-of-sample forecast.\n",
    "- The difference between the forecast() and predict() functions."
   ]
  },
  {
   "cell_type": "markdown",
   "metadata": {},
   "source": [
    "https://towardsdatascience.com/time-series-forecasting-arima-models-7f221e9eee06"
   ]
  },
  {
   "cell_type": "markdown",
   "metadata": {},
   "source": [
    "- P = Periods to lag for eg: (if P= 3 then we will use the three previous periods of our time series in the autoregressive portion of the calculation) P helps adjust the line that is being fitted to forecast the series"
   ]
  },
  {
   "cell_type": "code",
   "execution_count": null,
   "metadata": {},
   "outputs": [],
   "source": []
  }
 ],
 "metadata": {
  "kernelspec": {
   "display_name": "Python 3",
   "language": "python",
   "name": "python3"
  },
  "language_info": {
   "codemirror_mode": {
    "name": "ipython",
    "version": 3
   },
   "file_extension": ".py",
   "mimetype": "text/x-python",
   "name": "python",
   "nbconvert_exporter": "python",
   "pygments_lexer": "ipython3",
   "version": "3.6.5"
  }
 },
 "nbformat": 4,
 "nbformat_minor": 2
}
