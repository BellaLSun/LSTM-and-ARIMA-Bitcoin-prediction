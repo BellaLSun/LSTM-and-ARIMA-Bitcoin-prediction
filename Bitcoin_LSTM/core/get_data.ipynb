{
 "cells": [
  {
   "cell_type": "code",
   "execution_count": 5,
   "metadata": {},
   "outputs": [],
   "source": [
    "import json\n",
    "import requests\n",
    "\n",
    "from keras.models import Sequential\n",
    "from keras.layers import Activation, Dense, Dropout, LSTM\n",
    "import matplotlib.pyplot as plt\n",
    "import numpy as np\n",
    "import pandas as pd\n",
    "import seaborn as sns\n",
    "from sklearn.metrics import mean_absolute_error"
   ]
  },
  {
   "cell_type": "code",
   "execution_count": 9,
   "metadata": {},
   "outputs": [
    {
     "data": {
      "text/html": [
       "<div>\n",
       "<style scoped>\n",
       "    .dataframe tbody tr th:only-of-type {\n",
       "        vertical-align: middle;\n",
       "    }\n",
       "\n",
       "    .dataframe tbody tr th {\n",
       "        vertical-align: top;\n",
       "    }\n",
       "\n",
       "    .dataframe thead th {\n",
       "        text-align: right;\n",
       "    }\n",
       "</style>\n",
       "<table border=\"1\" class=\"dataframe\">\n",
       "  <thead>\n",
       "    <tr style=\"text-align: right;\">\n",
       "      <th></th>\n",
       "      <th>close</th>\n",
       "      <th>high</th>\n",
       "      <th>low</th>\n",
       "      <th>open</th>\n",
       "      <th>volumefrom</th>\n",
       "      <th>volumeto</th>\n",
       "    </tr>\n",
       "    <tr>\n",
       "      <th>time</th>\n",
       "      <th></th>\n",
       "      <th></th>\n",
       "      <th></th>\n",
       "      <th></th>\n",
       "      <th></th>\n",
       "      <th></th>\n",
       "    </tr>\n",
       "  </thead>\n",
       "  <tbody>\n",
       "    <tr>\n",
       "      <th>2013-05-22</th>\n",
       "      <td>123.80</td>\n",
       "      <td>124.50</td>\n",
       "      <td>122.00</td>\n",
       "      <td>122.89</td>\n",
       "      <td>18308.47</td>\n",
       "      <td>2252949.61</td>\n",
       "    </tr>\n",
       "    <tr>\n",
       "      <th>2013-05-23</th>\n",
       "      <td>126.30</td>\n",
       "      <td>126.93</td>\n",
       "      <td>123.00</td>\n",
       "      <td>123.80</td>\n",
       "      <td>22118.25</td>\n",
       "      <td>2772751.89</td>\n",
       "    </tr>\n",
       "    <tr>\n",
       "      <th>2013-05-24</th>\n",
       "      <td>133.10</td>\n",
       "      <td>133.98</td>\n",
       "      <td>125.36</td>\n",
       "      <td>126.30</td>\n",
       "      <td>48773.65</td>\n",
       "      <td>6333389.80</td>\n",
       "    </tr>\n",
       "    <tr>\n",
       "      <th>2013-05-25</th>\n",
       "      <td>131.99</td>\n",
       "      <td>133.50</td>\n",
       "      <td>128.20</td>\n",
       "      <td>133.10</td>\n",
       "      <td>16837.33</td>\n",
       "      <td>2203681.10</td>\n",
       "    </tr>\n",
       "    <tr>\n",
       "      <th>2013-05-26</th>\n",
       "      <td>133.50</td>\n",
       "      <td>136.00</td>\n",
       "      <td>130.61</td>\n",
       "      <td>131.99</td>\n",
       "      <td>23359.36</td>\n",
       "      <td>3130389.06</td>\n",
       "    </tr>\n",
       "  </tbody>\n",
       "</table>\n",
       "</div>"
      ],
      "text/plain": [
       "             close    high     low    open  volumefrom    volumeto\n",
       "time                                                              \n",
       "2013-05-22  123.80  124.50  122.00  122.89    18308.47  2252949.61\n",
       "2013-05-23  126.30  126.93  123.00  123.80    22118.25  2772751.89\n",
       "2013-05-24  133.10  133.98  125.36  126.30    48773.65  6333389.80\n",
       "2013-05-25  131.99  133.50  128.20  133.10    16837.33  2203681.10\n",
       "2013-05-26  133.50  136.00  130.61  131.99    23359.36  3130389.06"
      ]
     },
     "execution_count": 9,
     "metadata": {},
     "output_type": "execute_result"
    }
   ],
   "source": [
    "# API of Cryptographic currency in json format\n",
    "url = 'https://min-api.cryptocompare.com/data/histoday'\n",
    "res = requests.get(url + '?fsym=BTC&tsym=USD&limit=2000')\n",
    "hist = pd.DataFrame(json.loads(res.content)['Data'])\n",
    "hist = hist.set_index('time')\n",
    "hist.index = pd.to_datetime(hist.index, unit='s')\n",
    "hist.head()"
   ]
  },
  {
   "cell_type": "code",
   "execution_count": 12,
   "metadata": {},
   "outputs": [],
   "source": [
    "hist.to_csv('../data/FullBitcoin.csv')"
   ]
  },
  {
   "cell_type": "code",
   "execution_count": null,
   "metadata": {},
   "outputs": [],
   "source": [
    "# remove multi-linearity -> new feature\n",
    "hist['price'] = (hist['close']+hist['high']+hist['low']+hist['open'])/4\n",
    "hist['volume'] = (hist['volumeto']+hist['volumefrom'])/2\n",
    "# hist = hist.drop(columns = ['close','high','low','open','volumeto','volumefrom'])\n",
    "hist = hist.drop(['close','high','low','open','volumeto','volumefrom'],axis=1)"
   ]
  },
  {
   "cell_type": "code",
   "execution_count": 2,
   "metadata": {},
   "outputs": [
    {
     "data": {
      "text/html": [
       "<div>\n",
       "<style scoped>\n",
       "    .dataframe tbody tr th:only-of-type {\n",
       "        vertical-align: middle;\n",
       "    }\n",
       "\n",
       "    .dataframe tbody tr th {\n",
       "        vertical-align: top;\n",
       "    }\n",
       "\n",
       "    .dataframe thead th {\n",
       "        text-align: right;\n",
       "    }\n",
       "</style>\n",
       "<table border=\"1\" class=\"dataframe\">\n",
       "  <thead>\n",
       "    <tr style=\"text-align: right;\">\n",
       "      <th></th>\n",
       "      <th>price</th>\n",
       "      <th>volume</th>\n",
       "    </tr>\n",
       "    <tr>\n",
       "      <th>time</th>\n",
       "      <th></th>\n",
       "      <th></th>\n",
       "    </tr>\n",
       "  </thead>\n",
       "  <tbody>\n",
       "    <tr>\n",
       "      <th>2013-05-21</th>\n",
       "      <td>126.9500</td>\n",
       "      <td>4482.280</td>\n",
       "    </tr>\n",
       "    <tr>\n",
       "      <th>2013-05-22</th>\n",
       "      <td>125.4750</td>\n",
       "      <td>5332.715</td>\n",
       "    </tr>\n",
       "    <tr>\n",
       "      <th>2013-05-23</th>\n",
       "      <td>130.1050</td>\n",
       "      <td>1754.695</td>\n",
       "    </tr>\n",
       "    <tr>\n",
       "      <th>2013-05-24</th>\n",
       "      <td>133.0275</td>\n",
       "      <td>1736.915</td>\n",
       "    </tr>\n",
       "    <tr>\n",
       "      <th>2013-05-25</th>\n",
       "      <td>132.2625</td>\n",
       "      <td>1574.205</td>\n",
       "    </tr>\n",
       "  </tbody>\n",
       "</table>\n",
       "</div>"
      ],
      "text/plain": [
       "               price    volume\n",
       "time                          \n",
       "2013-05-21  126.9500  4482.280\n",
       "2013-05-22  125.4750  5332.715\n",
       "2013-05-23  130.1050  1754.695\n",
       "2013-05-24  133.0275  1736.915\n",
       "2013-05-25  132.2625  1574.205"
      ]
     },
     "execution_count": 2,
     "metadata": {},
     "output_type": "execute_result"
    }
   ],
   "source": [
    "hist.head()"
   ]
  },
  {
   "cell_type": "code",
   "execution_count": 3,
   "metadata": {},
   "outputs": [],
   "source": [
    "hist.to_csv('../data/Bitcoin.csv')"
   ]
  },
  {
   "cell_type": "code",
   "execution_count": null,
   "metadata": {},
   "outputs": [],
   "source": [
    "hist_0618 = hist[hist.index < '2018-06-18']\n",
    "hist_0718 = hist[hist.index < '2018-07-18']\n",
    "hist_0818 = hist[hist.index < '2018-08-18']\n",
    "hist_082418 = hist[hist.index < '2018-08-24']\n",
    "hist_0918 = hist[hist.index < '2018-09-14']\n",
    "\n",
    "# save to csv\n",
    "hist_0618.to_csv('../data/hist_0618.csv')\n",
    "hist_0718.to_csv('../data/hist_0718.csv')\n",
    "hist_0818.to_csv('../data/hist_0818.csv')\n",
    "hist_082418.to_csv('../data/hist_082418.csv')\n",
    "hist_0918.to_csv('../data/hist_0918.csv')"
   ]
  },
  {
   "cell_type": "markdown",
   "metadata": {},
   "source": [
    "### Test"
   ]
  },
  {
   "cell_type": "code",
   "execution_count": 5,
   "metadata": {},
   "outputs": [
    {
     "data": {
      "text/html": [
       "<div>\n",
       "<style scoped>\n",
       "    .dataframe tbody tr th:only-of-type {\n",
       "        vertical-align: middle;\n",
       "    }\n",
       "\n",
       "    .dataframe tbody tr th {\n",
       "        vertical-align: top;\n",
       "    }\n",
       "\n",
       "    .dataframe thead th {\n",
       "        text-align: right;\n",
       "    }\n",
       "</style>\n",
       "<table border=\"1\" class=\"dataframe\">\n",
       "  <thead>\n",
       "    <tr style=\"text-align: right;\">\n",
       "      <th></th>\n",
       "      <th>time</th>\n",
       "      <th>price</th>\n",
       "      <th>volume</th>\n",
       "    </tr>\n",
       "  </thead>\n",
       "  <tbody>\n",
       "    <tr>\n",
       "      <th>0</th>\n",
       "      <td>2013-05-07</td>\n",
       "      <td>122.2050</td>\n",
       "      <td>5824.440</td>\n",
       "    </tr>\n",
       "    <tr>\n",
       "      <th>1</th>\n",
       "      <td>2013-05-08</td>\n",
       "      <td>118.0400</td>\n",
       "      <td>4837.415</td>\n",
       "    </tr>\n",
       "    <tr>\n",
       "      <th>2</th>\n",
       "      <td>2013-05-09</td>\n",
       "      <td>125.4725</td>\n",
       "      <td>3843.350</td>\n",
       "    </tr>\n",
       "    <tr>\n",
       "      <th>3</th>\n",
       "      <td>2013-05-10</td>\n",
       "      <td>125.2225</td>\n",
       "      <td>1742.930</td>\n",
       "    </tr>\n",
       "    <tr>\n",
       "      <th>4</th>\n",
       "      <td>2013-05-11</td>\n",
       "      <td>123.9000</td>\n",
       "      <td>1068.120</td>\n",
       "    </tr>\n",
       "  </tbody>\n",
       "</table>\n",
       "</div>"
      ],
      "text/plain": [
       "         time     price    volume\n",
       "0  2013-05-07  122.2050  5824.440\n",
       "1  2013-05-08  118.0400  4837.415\n",
       "2  2013-05-09  125.4725  3843.350\n",
       "3  2013-05-10  125.2225  1742.930\n",
       "4  2013-05-11  123.9000  1068.120"
      ]
     },
     "execution_count": 5,
     "metadata": {},
     "output_type": "execute_result"
    }
   ],
   "source": [
    "filename = \"../data/hist_0618.csv\"\n",
    "dataframe = pd.read_csv(filename)\n",
    "dataframe.head()"
   ]
  },
  {
   "cell_type": "code",
   "execution_count": null,
   "metadata": {},
   "outputs": [],
   "source": []
  }
 ],
 "metadata": {
  "kernelspec": {
   "display_name": "Python 3",
   "language": "python",
   "name": "python3"
  },
  "language_info": {
   "codemirror_mode": {
    "name": "ipython",
    "version": 3
   },
   "file_extension": ".py",
   "mimetype": "text/x-python",
   "name": "python",
   "nbconvert_exporter": "python",
   "pygments_lexer": "ipython3",
   "version": "3.6.5"
  }
 },
 "nbformat": 4,
 "nbformat_minor": 2
}
