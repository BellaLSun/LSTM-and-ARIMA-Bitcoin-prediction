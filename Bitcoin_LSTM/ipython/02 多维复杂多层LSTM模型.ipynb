{
 "cells": [
  {
   "cell_type": "code",
   "execution_count": 3,
   "metadata": {},
   "outputs": [],
   "source": [
    "import json\n",
    "import requests\n",
    "\n",
    "from keras.models import Sequential\n",
    "from keras.layers import Activation, Dense, Dropout, LSTM\n",
    "import matplotlib.pyplot as plt\n",
    "import numpy as np\n",
    "import pandas as pd\n",
    "import seaborn as sns"
   ]
  },
  {
   "cell_type": "code",
   "execution_count": 4,
   "metadata": {},
   "outputs": [],
   "source": [
    "sns.set_palette('Set2')\n",
    "%matplotlib inline"
   ]
  },
  {
   "cell_type": "markdown",
   "metadata": {},
   "source": [
    "# Get data"
   ]
  },
  {
   "cell_type": "markdown",
   "metadata": {},
   "source": [
    "#### The data of Bitcoin/USD, we use joint URL in order to analyze the effect Ethereum later."
   ]
  },
  {
   "cell_type": "code",
   "execution_count": 12,
   "metadata": {},
   "outputs": [
    {
     "data": {
      "text/html": [
       "<div>\n",
       "<style scoped>\n",
       "    .dataframe tbody tr th:only-of-type {\n",
       "        vertical-align: middle;\n",
       "    }\n",
       "\n",
       "    .dataframe tbody tr th {\n",
       "        vertical-align: top;\n",
       "    }\n",
       "\n",
       "    .dataframe thead th {\n",
       "        text-align: right;\n",
       "    }\n",
       "</style>\n",
       "<table border=\"1\" class=\"dataframe\">\n",
       "  <thead>\n",
       "    <tr style=\"text-align: right;\">\n",
       "      <th></th>\n",
       "      <th>close</th>\n",
       "      <th>high</th>\n",
       "      <th>low</th>\n",
       "      <th>open</th>\n",
       "      <th>volumefrom</th>\n",
       "      <th>volumeto</th>\n",
       "    </tr>\n",
       "    <tr>\n",
       "      <th>time</th>\n",
       "      <th></th>\n",
       "      <th></th>\n",
       "      <th></th>\n",
       "      <th></th>\n",
       "      <th></th>\n",
       "      <th></th>\n",
       "    </tr>\n",
       "  </thead>\n",
       "  <tbody>\n",
       "    <tr>\n",
       "      <th>2013-05-24</th>\n",
       "      <td>133.1</td>\n",
       "      <td>133.98</td>\n",
       "      <td>125.36</td>\n",
       "      <td>126.3</td>\n",
       "      <td>48773.65</td>\n",
       "      <td>6333389.8</td>\n",
       "    </tr>\n",
       "  </tbody>\n",
       "</table>\n",
       "</div>"
      ],
      "text/plain": [
       "            close    high     low   open  volumefrom   volumeto\n",
       "time                                                           \n",
       "2013-05-24  133.1  133.98  125.36  126.3    48773.65  6333389.8"
      ]
     },
     "execution_count": 12,
     "metadata": {},
     "output_type": "execute_result"
    }
   ],
   "source": [
    "# API of Cryptographic currency in json format\n",
    "url = 'https://min-api.cryptocompare.com/data/histoday'\n",
    "res = requests.get(url + '?fsym=BTC&tsym=USD&limit=2000')\n",
    "hist = pd.DataFrame(json.loads(res.content)['Data'])\n",
    "hist = hist.set_index('time')\n",
    "hist.index = pd.to_datetime(hist.index, unit='s')\n",
    "hist.head(1)"
   ]
  },
  {
   "cell_type": "code",
   "execution_count": 13,
   "metadata": {},
   "outputs": [
    {
     "data": {
      "text/html": [
       "<div>\n",
       "<style scoped>\n",
       "    .dataframe tbody tr th:only-of-type {\n",
       "        vertical-align: middle;\n",
       "    }\n",
       "\n",
       "    .dataframe tbody tr th {\n",
       "        vertical-align: top;\n",
       "    }\n",
       "\n",
       "    .dataframe thead th {\n",
       "        text-align: right;\n",
       "    }\n",
       "</style>\n",
       "<table border=\"1\" class=\"dataframe\">\n",
       "  <thead>\n",
       "    <tr style=\"text-align: right;\">\n",
       "      <th></th>\n",
       "      <th>close</th>\n",
       "      <th>high</th>\n",
       "      <th>low</th>\n",
       "      <th>open</th>\n",
       "      <th>volumefrom</th>\n",
       "      <th>volumeto</th>\n",
       "    </tr>\n",
       "    <tr>\n",
       "      <th>time</th>\n",
       "      <th></th>\n",
       "      <th></th>\n",
       "      <th></th>\n",
       "      <th></th>\n",
       "      <th></th>\n",
       "      <th></th>\n",
       "    </tr>\n",
       "  </thead>\n",
       "  <tbody>\n",
       "    <tr>\n",
       "      <th>2018-11-14</th>\n",
       "      <td>6332.71</td>\n",
       "      <td>6349.14</td>\n",
       "      <td>6332.71</td>\n",
       "      <td>6349.14</td>\n",
       "      <td>0.0</td>\n",
       "      <td>0.0</td>\n",
       "    </tr>\n",
       "  </tbody>\n",
       "</table>\n",
       "</div>"
      ],
      "text/plain": [
       "              close     high      low     open  volumefrom  volumeto\n",
       "time                                                                \n",
       "2018-11-14  6332.71  6349.14  6332.71  6349.14         0.0       0.0"
      ]
     },
     "execution_count": 13,
     "metadata": {},
     "output_type": "execute_result"
    }
   ],
   "source": [
    "hist.tail(1)"
   ]
  },
  {
   "cell_type": "markdown",
   "metadata": {},
   "source": [
    "#### Now set close price as target data, and later we will add price gap into model"
   ]
  },
  {
   "cell_type": "code",
   "execution_count": 14,
   "metadata": {},
   "outputs": [],
   "source": [
    "#### When set dimension as "
   ]
  },
  {
   "cell_type": "code",
   "execution_count": 15,
   "metadata": {},
   "outputs": [],
   "source": [
    "# hist['price'] = (hist['close']+hist['high']+hist['low']+hist['open'])/4\n",
    "# hist['volume'] = hist['volumefrom']+hist['volumeto']\n",
    "# hist = hist.drop(columns=['close','high','low','open','volumefrom','volumeto'])\n",
    "# hist.head()"
   ]
  },
  {
   "cell_type": "code",
   "execution_count": 19,
   "metadata": {},
   "outputs": [],
   "source": [
    "target_col = 'close'"
   ]
  },
  {
   "cell_type": "markdown",
   "metadata": {},
   "source": [
    "# Split training and test dataset"
   ]
  },
  {
   "cell_type": "markdown",
   "metadata": {},
   "source": [
    "80% is used for training, 20% is used for testing."
   ]
  },
  {
   "cell_type": "code",
   "execution_count": 20,
   "metadata": {},
   "outputs": [],
   "source": [
    "def train_test_split(df, test_size):\n",
    "    split_row = len(df) - int(test_size * len(df))\n",
    "    train_data = df.iloc[:split_row]\n",
    "    test_data = df.iloc[split_row:]\n",
    "    return train_data, test_data"
   ]
  },
  {
   "cell_type": "code",
   "execution_count": 21,
   "metadata": {},
   "outputs": [
    {
     "data": {
      "text/plain": [
       "(2001, 6)"
      ]
     },
     "execution_count": 21,
     "metadata": {},
     "output_type": "execute_result"
    }
   ],
   "source": [
    "hist.shape"
   ]
  },
  {
   "cell_type": "markdown",
   "metadata": {},
   "source": [
    "# Build LSTM Model"
   ]
  },
  {
   "cell_type": "markdown",
   "metadata": {},
   "source": [
    "#### Normalization"
   ]
  },
  {
   "cell_type": "markdown",
   "metadata": {},
   "source": [
    "As the model does not ought to predict future price, but future change percentage."
   ]
  },
  {
   "cell_type": "code",
   "execution_count": 22,
   "metadata": {},
   "outputs": [],
   "source": [
    "# The other way: scaler = scaler = StandardScaler()\n",
    "# 但是模型的目的不是变成正态分布，而是将第一天设为0，计算的变化值，然后再根据基准值，\n",
    "def normalise_zero_base(df):\n",
    "    \"\"\" Normalise dataframe column-wise to reflect changes with respect to first entry. \"\"\"\n",
    "    return df / df.iloc[0] - 1"
   ]
  },
  {
   "cell_type": "markdown",
   "metadata": {},
   "source": [
    "#### smoothed data for average-n-days"
   ]
  },
  {
   "cell_type": "code",
   "execution_count": 23,
   "metadata": {},
   "outputs": [],
   "source": [
    "def extract_window_data(df, window_len, zero_base=True):\n",
    "    \"\"\" Convert dataframe to overlapping sequences/windows of len `window_data`.\n",
    "    \n",
    "        :param window_len: Size of window\n",
    "        :param zero_base: If True, the data in each window is normalised to reflect changes\n",
    "            with respect to the first entry in the window (which is then always 0)\n",
    "    \"\"\"\n",
    "    window_data = []\n",
    "    for idx in range(len(df) - window_len):\n",
    "        tmp = df[idx: (idx + window_len)].copy()\n",
    "        if zero_base:\n",
    "            tmp = normalise_zero_base(tmp)\n",
    "        window_data.append(tmp.values)\n",
    "    return np.array(window_data)"
   ]
  },
  {
   "cell_type": "code",
   "execution_count": 24,
   "metadata": {},
   "outputs": [],
   "source": [
    "def prepare_data(df, target_col, window_len, zero_base=True, test_size=0.2):\n",
    "    \"\"\" Prepare data for LSTM. \"\"\"\n",
    "    # train test split\n",
    "    train_data, test_data = train_test_split(df, test_size=test_size)\n",
    "    \n",
    "    # extract window data\n",
    "    # 保留了X_train的输入维度\n",
    "    X_train = extract_window_data(train_data, window_len, zero_base)\n",
    "    X_test = extract_window_data(test_data, window_len, zero_base)\n",
    "    \n",
    "    # extract targets\n",
    "    y_train = train_data[target_col][window_len:].values\n",
    "    y_test = test_data[target_col][window_len:].values\n",
    "    if zero_base:\n",
    "        # 后n天比前n天的比值,变化的百分比\n",
    "        y_train = y_train / train_data[target_col][:-window_len].values - 1\n",
    "        y_test = y_test / test_data[target_col][:-window_len].values - 1\n",
    "\n",
    "    return train_data, test_data, X_train, X_test, y_train, y_test"
   ]
  },
  {
   "cell_type": "markdown",
   "metadata": {},
   "source": [
    "#### 1 layer LSTM model"
   ]
  },
  {
   "cell_type": "code",
   "execution_count": 25,
   "metadata": {},
   "outputs": [],
   "source": [
    "# sigmoid is not as good as linear, as this data is one dimension and linear structure.\n",
    "def build_lstm_model1(input_data, output_size, neurons=20, activ_func='linear',\n",
    "                     dropout=0.25, loss='mae', optimizer='adam'):\n",
    "    model = Sequential()\n",
    "    print('input_data.shape'+str(input_data.shape))\n",
    "    # LSTM: input data should be 3D tensor with shape (nb_samples, timesteps, input_dim).\n",
    "    model.add(LSTM(neurons, input_shape=(input_data.shape[1], input_data.shape[2])))\n",
    "    model.add(Dropout(dropout))\n",
    "    model.add(Dense(units=output_size))\n",
    "    model.add(Activation(activ_func))\n",
    "\n",
    "    model.compile(loss=loss, optimizer=optimizer)\n",
    "    return model"
   ]
  },
  {
   "cell_type": "markdown",
   "metadata": {},
   "source": [
    "#### 2 layer LSTM model"
   ]
  },
  {
   "cell_type": "code",
   "execution_count": 59,
   "metadata": {},
   "outputs": [],
   "source": [
    "# http://resuly.me/2017/08/16/keras-rnn-tutorial/\n",
    "\n",
    "def build_lstm_model2(input_data):\n",
    "    model = Sequential()\n",
    "    # 我们的网络有1维的数值输入，两个隐含层（两层LSTM）的输出结果的数量分别为50和100，最后一层（output layer）的输出层维度为1，代表着预测结果。\n",
    "    layers = [1, 50, 100, 1]\n",
    "    \n",
    "    model.add(LSTM(\n",
    "            layers[1],\n",
    "            input_shape=(input_data.shape[1], input_data.shape[2]),\n",
    "            return_sequences=True))\n",
    "    model.add(Dropout(0.2))\n",
    "    \n",
    "    model.add(LSTM(\n",
    "            layers[2],\n",
    "            return_sequences=False))\n",
    "    model.add(Dropout(0.2))\n",
    "    \n",
    "    model.add(Dense(\n",
    "            layers[3]))\n",
    "    model.add(Activation(\"linear\"))\n",
    "    \n",
    "    model.compile(loss=\"mse\", optimizer=\"rmsprop\")\n",
    "    return model\n",
    "    "
   ]
  },
  {
   "cell_type": "code",
   "execution_count": 60,
   "metadata": {},
   "outputs": [],
   "source": [
    "np.random.seed(42)\n",
    "\n",
    "# data params\n",
    "window_len = 90\n",
    "test_size = 0.15\n",
    "zero_base = True\n",
    "\n",
    "# model params\n",
    "lstm_neurons = 100\n",
    "epochs = 50\n",
    "batch_size = 4\n",
    "loss = 'mae'\n",
    "dropout = 0.25\n",
    "optimizer = 'adam'\n",
    "\n",
    "# train, test = train_test_split(hist, test_size=0.2)\n",
    "\n",
    "train, test, X_train, X_test, y_train, y_test = prepare_data(\n",
    "    hist, target_col, window_len=window_len, zero_base=zero_base, test_size=test_size)"
   ]
  },
  {
   "cell_type": "code",
   "execution_count": 61,
   "metadata": {},
   "outputs": [
    {
     "data": {
      "text/plain": [
       "(1611, 90, 6)"
      ]
     },
     "execution_count": 61,
     "metadata": {},
     "output_type": "execute_result"
    }
   ],
   "source": [
    "X_train.shape"
   ]
  },
  {
   "cell_type": "code",
   "execution_count": 62,
   "metadata": {},
   "outputs": [
    {
     "data": {
      "text/plain": [
       "(300, 6)"
      ]
     },
     "execution_count": 62,
     "metadata": {},
     "output_type": "execute_result"
    }
   ],
   "source": [
    "# pandas dataframe\n",
    "test.shape"
   ]
  },
  {
   "cell_type": "code",
   "execution_count": 63,
   "metadata": {},
   "outputs": [
    {
     "data": {
      "text/plain": [
       "(210, 90, 6)"
      ]
     },
     "execution_count": 63,
     "metadata": {},
     "output_type": "execute_result"
    }
   ],
   "source": [
    "# 经过标准化的\n",
    "X_test.shape"
   ]
  },
  {
   "cell_type": "code",
   "execution_count": 64,
   "metadata": {},
   "outputs": [
    {
     "name": "stdout",
     "output_type": "stream",
     "text": [
      "Epoch 1/50\n",
      "1611/1611 [==============================] - 71s 44ms/step - loss: 0.2832\n",
      "Epoch 2/50\n",
      "1611/1611 [==============================] - 62s 38ms/step - loss: 0.1152\n",
      "Epoch 3/50\n",
      "1611/1611 [==============================] - 64s 40ms/step - loss: 0.1004\n",
      "Epoch 4/50\n",
      "1611/1611 [==============================] - 69s 43ms/step - loss: 0.1025\n",
      "Epoch 5/50\n",
      "1611/1611 [==============================] - 66s 41ms/step - loss: 0.0795\n",
      "Epoch 6/50\n",
      "1611/1611 [==============================] - 71s 44ms/step - loss: 0.0796\n",
      "Epoch 7/50\n",
      "1611/1611 [==============================] - 74s 46ms/step - loss: 0.0625\n",
      "Epoch 8/50\n",
      "1611/1611 [==============================] - 66s 41ms/step - loss: 0.0699\n",
      "Epoch 9/50\n",
      "1611/1611 [==============================] - 62s 38ms/step - loss: 0.0719\n"
     ]
    }
   ],
   "source": [
    "from keras.callbacks import EarlyStopping\n",
    "\n",
    "# 两次loss连续上升就会停止\n",
    "early_stopping = EarlyStopping(monitor='loss', patience=2)\n",
    "\n",
    "model = build_lstm_model2(X_train)\n",
    "history = model.fit(X_train, y_train, epochs=epochs, batch_size=batch_size, \n",
    "                    verbose=1, shuffle=True,callbacks=[early_stopping])"
   ]
  },
  {
   "cell_type": "markdown",
   "metadata": {},
   "source": [
    "# Multiple time sequence Prediction"
   ]
  },
  {
   "cell_type": "code",
   "execution_count": 67,
   "metadata": {},
   "outputs": [],
   "source": [
    "def predict_sequences_multiple(model, data, window_size, prediction_len):\n",
    "    prediction_seqs = []\n",
    "    for i in range(int(len(data)/prediction_len)):\n",
    "        # 每prediction_len一个区间\n",
    "        curr_frame = data[i*prediction_len]\n",
    "        predicted = []\n",
    "        # 在每个prediction_len的区间内\n",
    "        for j in range(prediction_len):\n",
    "            # 新加一个维度\n",
    "            predicted.append(model.predict(curr_frame[np.newaxis,:,:])[0,0])\n",
    "            # 每次移动一个位置，加入新的预测值进行下一次预测\n",
    "            curr_frame = curr_frame[1:]\n",
    "            # 必须是1，不然：list index out of range，因为上一行代码推进了一个数据点\n",
    "            curr_frame = np.insert(curr_frame, [window_size-1], predicted[-1], axis=0)\n",
    "        prediction_seqs.append(predicted)\n",
    "    print('prediction_seqs shape'+ str(np.array(prediction_seqs).shape))\n",
    "    return prediction_seqs\n",
    "\n",
    "def plot_results_multiple(predicted_data, true_data, prediction_len):\n",
    "    fig = plt.figure(facecolor='white')\n",
    "    ax = fig.add_subplot(111)\n",
    "    ax.plot(true_data, label='True Data')\n",
    "    #Pad the list of predictions to shift it in the graph to it's correct start\n",
    "    for i, data in enumerate(predicted_data):\n",
    "        # 如果是prediction_len的倍数，就空一个点\n",
    "        padding = [None for p in range(i * prediction_len)]\n",
    "#         plt.plot(padding + data,label='prediction')\n",
    "        plt.plot(padding + data)\n",
    "        plt.legend(loc=2, bbox_to_anchor=(1.05,1.0),borderaxespad = 0.)\n",
    "    plt.xticks(rotation=45)\n",
    "    plt.show()"
   ]
  },
  {
   "cell_type": "code",
   "execution_count": 68,
   "metadata": {},
   "outputs": [
    {
     "data": {
      "text/plain": [
       "numpy.ndarray"
      ]
     },
     "execution_count": 68,
     "metadata": {},
     "output_type": "execute_result"
    }
   ],
   "source": [
    "type(X_test)"
   ]
  },
  {
   "cell_type": "code",
   "execution_count": 69,
   "metadata": {},
   "outputs": [
    {
     "data": {
      "text/plain": [
       "(210, 90, 6)"
      ]
     },
     "execution_count": 69,
     "metadata": {},
     "output_type": "execute_result"
    }
   ],
   "source": [
    "X_test.shape"
   ]
  },
  {
   "cell_type": "code",
   "execution_count": 70,
   "metadata": {},
   "outputs": [
    {
     "data": {
      "text/plain": [
       "(210,)"
      ]
     },
     "execution_count": 70,
     "metadata": {},
     "output_type": "execute_result"
    }
   ],
   "source": [
    "# predictions \n",
    "y_test.shape"
   ]
  },
  {
   "cell_type": "code",
   "execution_count": 71,
   "metadata": {},
   "outputs": [
    {
     "name": "stdout",
     "output_type": "stream",
     "text": [
      "prediction_seqs shape(30, 7)\n",
      "predictions shape(30, 7)\n"
     ]
    },
    {
     "data": {
      "image/png": "[encoded data removed]",
      "text/plain": [
       "<Figure size 432x288 with 1 Axes>"
      ]
     },
     "metadata": {},
     "output_type": "display_data"
    }
   ],
   "source": [
    "predictions = predict_sequences_multiple(model, X_test, 90, 7)\n",
    "print ('predictions shape'+str(np.array(predictions).shape))\n",
    "plot_results_multiple(predictions, y_test, 7)"
   ]
  },
  {
   "cell_type": "code",
   "execution_count": 72,
   "metadata": {},
   "outputs": [
    {
     "data": {
      "text/plain": [
       "array([-0.28962964, -0.28476673, -0.2771639 , -0.2683425 , -0.25881594,\n",
       "       -0.24880242, -0.238424  ], dtype=float32)"
      ]
     },
     "execution_count": 72,
     "metadata": {},
     "output_type": "execute_result"
    }
   ],
   "source": [
    "predictions = np.array(predictions)\n",
    "predictions[0]"
   ]
  },
  {
   "cell_type": "code",
   "execution_count": 73,
   "metadata": {},
   "outputs": [],
   "source": [
    "# for i in range(5):\n",
    "#     print (i) # 0-4"
   ]
  },
  {
   "cell_type": "markdown",
   "metadata": {},
   "source": [
    "### 把标准化的数据还原为正常值"
   ]
  },
  {
   "cell_type": "code",
   "execution_count": 74,
   "metadata": {},
   "outputs": [],
   "source": [
    "# scaler = MinMaxScaler(feature_range=(-1, 1))\n",
    "# 直接用 inverted = scaler.inverse_transform(array)\n",
    "unnorm_pre = []\n",
    "def predict_unnorm_data(data,prediction_len):\n",
    "    for i in range(int(len(data)/prediction_len)):\n",
    "        # 每prediction_len一个区间\n",
    "        predicted_line = []\n",
    "        for j in range(prediction_len):\n",
    "            p = test[target_col][i*prediction_len]\n",
    "            # 每一天都是基于第一天进行变化的\n",
    "            p = p*(1+predictions[i][j])\n",
    "            predicted_line.append(p)\n",
    "        unnorm_pre.append(predicted_line)\n",
    "    return unnorm_pre "
   ]
  },
  {
   "cell_type": "code",
   "execution_count": 75,
   "metadata": {},
   "outputs": [],
   "source": [
    "y_test = test[target_col][window_len:].values\n",
    "predict_unnorm_data = predict_unnorm_data(y_test,prediction_len=7)"
   ]
  },
  {
   "cell_type": "markdown",
   "metadata": {},
   "source": [
    "### 方法1: 把预测值flatten，加上同样的索引，再画图。虽然解决了时间index的绘制问题，但是却因为没有设padding，但其实并不影响"
   ]
  },
  {
   "cell_type": "code",
   "execution_count": 76,
   "metadata": {},
   "outputs": [
    {
     "data": {
      "text/plain": [
       "(210, 1)"
      ]
     },
     "execution_count": 76,
     "metadata": {},
     "output_type": "execute_result"
    }
   ],
   "source": [
    "# 真实值\n",
    "y_true = test[target_col][window_len:]\n",
    "# 预测值flatten\n",
    "predict_unnorm_data = np.array(predict_unnorm_data).reshape(-1)\n",
    "predict_unnorm_data = pd.DataFrame(predict_unnorm_data)\n",
    "# 统一矩阵大小\n",
    "n_shape = len(predict_unnorm_data)\n",
    "y_true = pd.DataFrame(y_true)\n",
    "y_true = y_true[:n_shape]\n",
    "y_true.shape\n",
    "# 统一时间index\n",
    "predict_unnorm_data['time'] = y_true.index\n",
    "predict_unnorm_data.columns = ['y_true', 'time']\n",
    "predict_unnorm_data = predict_unnorm_data.set_index('time')\n",
    "predict_unnorm_data.shape"
   ]
  },
  {
   "cell_type": "code",
   "execution_count": 77,
   "metadata": {},
   "outputs": [],
   "source": [
    "def plot(predicted_data, true_data):\n",
    "    fig = plt.figure(facecolor='white')\n",
    "    ax = fig.add_subplot(111)\n",
    "    ax.plot(true_data, label='True Data')\n",
    "    plt.xticks(rotation=45)\n",
    "    plt.plot(predicted_data, label='Prediction')\n",
    "    plt.legend(loc=2, bbox_to_anchor=(1.05,1.0),borderaxespad = 0.)\n",
    "    plt.show()"
   ]
  },
  {
   "cell_type": "code",
   "execution_count": 78,
   "metadata": {},
   "outputs": [
    {
     "data": {
      "image/png": "[encoded data removed]",
      "text/plain": [
       "<Figure size 432x288 with 1 Axes>"
      ]
     },
     "metadata": {},
     "output_type": "display_data"
    }
   ],
   "source": [
    "plot(predict_unnorm_data,y_true)"
   ]
  },
  {
   "cell_type": "code",
   "execution_count": 87,
   "metadata": {},
   "outputs": [
    {
     "name": "stdout",
     "output_type": "stream",
     "text": [
      "182.3305437440481\n"
     ]
    }
   ],
   "source": [
    "### 计算RMSE\n",
    "from datetime import datetime,timedelta\n",
    "import math\n",
    "from sklearn.metrics import mean_squared_error\n",
    "\n",
    "# truncate预测日期\n",
    "begin_date = datetime(year=2018, month=9, day=14)\n",
    "end_date = begin_date + timedelta(days=6)\n",
    "# 求指定预测日期之间的RMSR\n",
    "mse = mean_squared_error(y_true[begin_date:end_date], predict_unnorm_data[begin_date:end_date])\n",
    "rmse = math.sqrt(mse)\n",
    "print(rmse)"
   ]
  },
  {
   "cell_type": "code",
   "execution_count": 88,
   "metadata": {},
   "outputs": [
    {
     "data": {
      "text/html": [
       "<div>\n",
       "<style scoped>\n",
       "    .dataframe tbody tr th:only-of-type {\n",
       "        vertical-align: middle;\n",
       "    }\n",
       "\n",
       "    .dataframe tbody tr th {\n",
       "        vertical-align: top;\n",
       "    }\n",
       "\n",
       "    .dataframe thead th {\n",
       "        text-align: right;\n",
       "    }\n",
       "</style>\n",
       "<table border=\"1\" class=\"dataframe\">\n",
       "  <thead>\n",
       "    <tr style=\"text-align: right;\">\n",
       "      <th></th>\n",
       "      <th>y_true</th>\n",
       "      <th>predict_unnorm_data</th>\n",
       "      <th>rmse</th>\n",
       "    </tr>\n",
       "    <tr>\n",
       "      <th>time</th>\n",
       "      <th></th>\n",
       "      <th></th>\n",
       "      <th></th>\n",
       "    </tr>\n",
       "  </thead>\n",
       "  <tbody>\n",
       "    <tr>\n",
       "      <th>2018-09-14</th>\n",
       "      <td>6486.01</td>\n",
       "      <td>6340.176272</td>\n",
       "      <td>182.330544</td>\n",
       "    </tr>\n",
       "    <tr>\n",
       "      <th>2018-09-15</th>\n",
       "      <td>6522.08</td>\n",
       "      <td>6392.435732</td>\n",
       "      <td>182.330544</td>\n",
       "    </tr>\n",
       "    <tr>\n",
       "      <th>2018-09-16</th>\n",
       "      <td>6502.44</td>\n",
       "      <td>6452.608622</td>\n",
       "      <td>182.330544</td>\n",
       "    </tr>\n",
       "    <tr>\n",
       "      <th>2018-09-17</th>\n",
       "      <td>6261.48</td>\n",
       "      <td>6515.708168</td>\n",
       "      <td>182.330544</td>\n",
       "    </tr>\n",
       "    <tr>\n",
       "      <th>2018-09-18</th>\n",
       "      <td>6346.44</td>\n",
       "      <td>6579.296602</td>\n",
       "      <td>182.330544</td>\n",
       "    </tr>\n",
       "    <tr>\n",
       "      <th>2018-09-19</th>\n",
       "      <td>6398.80</td>\n",
       "      <td>6642.098278</td>\n",
       "      <td>182.330544</td>\n",
       "    </tr>\n",
       "    <tr>\n",
       "      <th>2018-09-20</th>\n",
       "      <td>6505.90</td>\n",
       "      <td>6387.137630</td>\n",
       "      <td>182.330544</td>\n",
       "    </tr>\n",
       "  </tbody>\n",
       "</table>\n",
       "</div>"
      ],
      "text/plain": [
       "             y_true  predict_unnorm_data        rmse\n",
       "time                                                \n",
       "2018-09-14  6486.01          6340.176272  182.330544\n",
       "2018-09-15  6522.08          6392.435732  182.330544\n",
       "2018-09-16  6502.44          6452.608622  182.330544\n",
       "2018-09-17  6261.48          6515.708168  182.330544\n",
       "2018-09-18  6346.44          6579.296602  182.330544\n",
       "2018-09-19  6398.80          6642.098278  182.330544\n",
       "2018-09-20  6505.90          6387.137630  182.330544"
      ]
     },
     "execution_count": 88,
     "metadata": {},
     "output_type": "execute_result"
    }
   ],
   "source": [
    "# 合并dataframe\n",
    "file = pd.concat([y_true, predict_unnorm_data],axis=1)\n",
    "file.columns = ['y_true', 'predict_unnorm_data']\n",
    "# new column 'rmse'\n",
    "file['rmse'] = rmse\n",
    "file[begin_date:end_date]"
   ]
  },
  {
   "cell_type": "code",
   "execution_count": null,
   "metadata": {},
   "outputs": [],
   "source": []
  },
  {
   "cell_type": "code",
   "execution_count": null,
   "metadata": {},
   "outputs": [],
   "source": []
  }
 ],
 "metadata": {
  "kernelspec": {
   "display_name": "Python 3",
   "language": "python",
   "name": "python3"
  },
  "language_info": {
   "codemirror_mode": {
    "name": "ipython",
    "version": 3
   },
   "file_extension": ".py",
   "mimetype": "text/x-python",
   "name": "python",
   "nbconvert_exporter": "python",
   "pygments_lexer": "ipython3",
   "version": "3.6.5"
  }
 },
 "nbformat": 4,
 "nbformat_minor": 2
}
