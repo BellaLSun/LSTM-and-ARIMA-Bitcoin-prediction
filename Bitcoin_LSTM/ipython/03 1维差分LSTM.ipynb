{
 "cells": [
  {
   "cell_type": "code",
   "execution_count": 5,
   "metadata": {},
   "outputs": [
    {
     "name": "stderr",
     "output_type": "stream",
     "text": [
      "Using TensorFlow backend.\n"
     ]
    }
   ],
   "source": [
    "import json\n",
    "import requests\n",
    "\n",
    "from keras.models import Sequential\n",
    "from keras.layers import Activation, Dense, Dropout, LSTM\n",
    "import matplotlib.pyplot as plt\n",
    "import numpy as np\n",
    "import pandas as pd\n",
    "import seaborn as sns\n",
    "from sklearn.metrics import mean_absolute_error"
   ]
  },
  {
   "cell_type": "code",
   "execution_count": 6,
   "metadata": {},
   "outputs": [],
   "source": [
    "sns.set_palette('Set2')\n",
    "%matplotlib inline"
   ]
  },
  {
   "cell_type": "markdown",
   "metadata": {},
   "source": [
    "### Get data"
   ]
  },
  {
   "cell_type": "code",
   "execution_count": 433,
   "metadata": {},
   "outputs": [
    {
     "data": {
      "text/html": [
       "<div>\n",
       "<style scoped>\n",
       "    .dataframe tbody tr th:only-of-type {\n",
       "        vertical-align: middle;\n",
       "    }\n",
       "\n",
       "    .dataframe tbody tr th {\n",
       "        vertical-align: top;\n",
       "    }\n",
       "\n",
       "    .dataframe thead th {\n",
       "        text-align: right;\n",
       "    }\n",
       "</style>\n",
       "<table border=\"1\" class=\"dataframe\">\n",
       "  <thead>\n",
       "    <tr style=\"text-align: right;\">\n",
       "      <th></th>\n",
       "      <th>close</th>\n",
       "      <th>high</th>\n",
       "      <th>low</th>\n",
       "      <th>open</th>\n",
       "      <th>volumefrom</th>\n",
       "      <th>volumeto</th>\n",
       "    </tr>\n",
       "    <tr>\n",
       "      <th>time</th>\n",
       "      <th></th>\n",
       "      <th></th>\n",
       "      <th></th>\n",
       "      <th></th>\n",
       "      <th></th>\n",
       "      <th></th>\n",
       "    </tr>\n",
       "  </thead>\n",
       "  <tbody>\n",
       "    <tr>\n",
       "      <th>2017-01-02</th>\n",
       "      <td>1017.05</td>\n",
       "      <td>1031.68</td>\n",
       "      <td>990.20</td>\n",
       "      <td>995.44</td>\n",
       "      <td>64951.63</td>\n",
       "      <td>6.603807e+07</td>\n",
       "    </tr>\n",
       "    <tr>\n",
       "      <th>2017-01-03</th>\n",
       "      <td>1033.30</td>\n",
       "      <td>1035.47</td>\n",
       "      <td>1006.53</td>\n",
       "      <td>1017.05</td>\n",
       "      <td>54788.01</td>\n",
       "      <td>5.608587e+07</td>\n",
       "    </tr>\n",
       "    <tr>\n",
       "      <th>2017-01-04</th>\n",
       "      <td>1135.41</td>\n",
       "      <td>1148.54</td>\n",
       "      <td>1022.32</td>\n",
       "      <td>1033.30</td>\n",
       "      <td>156272.17</td>\n",
       "      <td>1.705846e+08</td>\n",
       "    </tr>\n",
       "    <tr>\n",
       "      <th>2017-01-05</th>\n",
       "      <td>989.35</td>\n",
       "      <td>1150.63</td>\n",
       "      <td>874.53</td>\n",
       "      <td>1135.41</td>\n",
       "      <td>240007.84</td>\n",
       "      <td>2.448393e+08</td>\n",
       "    </tr>\n",
       "    <tr>\n",
       "      <th>2017-01-06</th>\n",
       "      <td>886.16</td>\n",
       "      <td>1027.42</td>\n",
       "      <td>852.55</td>\n",
       "      <td>989.35</td>\n",
       "      <td>194290.96</td>\n",
       "      <td>1.791607e+08</td>\n",
       "    </tr>\n",
       "  </tbody>\n",
       "</table>\n",
       "</div>"
      ],
      "text/plain": [
       "              close     high      low     open  volumefrom      volumeto\n",
       "time                                                                    \n",
       "2017-01-02  1017.05  1031.68   990.20   995.44    64951.63  6.603807e+07\n",
       "2017-01-03  1033.30  1035.47  1006.53  1017.05    54788.01  5.608587e+07\n",
       "2017-01-04  1135.41  1148.54  1022.32  1033.30   156272.17  1.705846e+08\n",
       "2017-01-05   989.35  1150.63   874.53  1135.41   240007.84  2.448393e+08\n",
       "2017-01-06   886.16  1027.42   852.55   989.35   194290.96  1.791607e+08"
      ]
     },
     "execution_count": 433,
     "metadata": {},
     "output_type": "execute_result"
    }
   ],
   "source": [
    "# API of Cryptographic currency in json format\n",
    "url = 'https://min-api.cryptocompare.com/data/histoday'\n",
    "res = requests.get(url + '?fsym=BTC&tsym=USD&limit=2000')\n",
    "# AUD train model时，会出现loss = NAN的情况。但是不知道为什么\n",
    "hist = pd.DataFrame(json.loads(res.content)['Data'])\n",
    "hist = hist.set_index('time')\n",
    "hist.index = pd.to_datetime(hist.index, unit='s')\n",
    "hist = hist[hist.index>'2017-01-01']\n",
    "hist.head()"
   ]
  },
  {
   "cell_type": "code",
   "execution_count": 434,
   "metadata": {},
   "outputs": [],
   "source": [
    "# in case gradients explosion, some people suggest to drop some columns.\n",
    "# hist = hist.drop(columns=['volumefrom'])\n",
    "# hist.head()"
   ]
  },
  {
   "cell_type": "code",
   "execution_count": 435,
   "metadata": {},
   "outputs": [],
   "source": [
    "from statsmodels.tsa.stattools import adfuller\n",
    "def testStationarity(ts):\n",
    "    dftest = adfuller(ts)\n",
    "    # 对上述函数求得的值进行语义描述\n",
    "    dfoutput = pd.Series(dftest[0:4], index=['Test Statistic','p-value','#Lags Used','Number of Observations Used'])\n",
    "    for key,value in dftest[4].items():\n",
    "        dfoutput['Critical Value (%s)'%key] = value\n",
    "    return dfoutput"
   ]
  },
  {
   "cell_type": "code",
   "execution_count": 436,
   "metadata": {},
   "outputs": [
    {
     "data": {
      "text/plain": [
       "Test Statistic                  -1.971402\n",
       "p-value                          0.299251\n",
       "#Lags Used                      20.000000\n",
       "Number of Observations Used    664.000000\n",
       "Critical Value (1%)             -3.440237\n",
       "Critical Value (5%)             -2.865903\n",
       "Critical Value (10%)            -2.569093\n",
       "dtype: float64"
      ]
     },
     "execution_count": 436,
     "metadata": {},
     "output_type": "execute_result"
    }
   ],
   "source": [
    "# not stationary\n",
    "testStationarity(hist['close'])"
   ]
  },
  {
   "cell_type": "code",
   "execution_count": 437,
   "metadata": {},
   "outputs": [],
   "source": [
    "def difference(df):\n",
    "    return df.diff(1).dropna()\n",
    "\n",
    "def train_test_split(df, test_size=0.2):\n",
    "    split_row = len(df) - int(test_size * len(df))\n",
    "    train_data = df.iloc[:split_row]\n",
    "    test_data = df.iloc[split_row:]\n",
    "    return train_data, test_data"
   ]
  },
  {
   "cell_type": "markdown",
   "metadata": {},
   "source": [
    "For future reference: NaN loss could come from any value in your dataset that is not float or int. In my case, there were some NumPy infinities (np.inf), resulting from divide by zero in my program that prepares the dataset. Checking for inf or nan data first may save you some time spent trying to find faults in the model.\n",
    "\n",
    "差分后的数据，可能会有0值。之后再进行标准的时候，就可能出现np.inf"
   ]
  },
  {
   "cell_type": "code",
   "execution_count": 438,
   "metadata": {},
   "outputs": [],
   "source": [
    "def preprocess(df,test_size=0.2):\n",
    "    df = difference(df)\n",
    "    train_data, test_data = train_test_split(df, test_size)\n",
    "    return train_data, test_data"
   ]
  },
  {
   "cell_type": "code",
   "execution_count": 439,
   "metadata": {},
   "outputs": [],
   "source": [
    "train_data, test_data = preprocess(hist)"
   ]
  },
  {
   "cell_type": "code",
   "execution_count": 440,
   "metadata": {},
   "outputs": [],
   "source": [
    "# 查找差分后数据中的0值\n",
    "def deletzero(train):\n",
    "    for i in range(train.shape[0]):\n",
    "        for j in range(train.shape[1]):\n",
    "            if train.iloc[i,j] == 0:\n",
    "                print (i,j)\n",
    "                # 不知道怎么自动取，value error：dataframe does not have arrtibute x\n",
    "#                 train.iloc[i,j] = train.x[j].mean()\n",
    "            elif train.iloc[i,j] == nan:\n",
    "                print (i,j)\n",
    "#                 train.iloc[i,j] = train.x[j].mean()"
   ]
  },
  {
   "cell_type": "code",
   "execution_count": 441,
   "metadata": {},
   "outputs": [
    {
     "name": "stdout",
     "output_type": "stream",
     "text": [
      "109 1\n"
     ]
    }
   ],
   "source": [
    "deletzero(train_data)"
   ]
  },
  {
   "cell_type": "code",
   "execution_count": 442,
   "metadata": {},
   "outputs": [],
   "source": [
    "train_data.iloc[109,1] = train.high.mean()"
   ]
  },
  {
   "cell_type": "code",
   "execution_count": 443,
   "metadata": {},
   "outputs": [],
   "source": [
    "deletzero(test_data)"
   ]
  },
  {
   "cell_type": "code",
   "execution_count": 444,
   "metadata": {},
   "outputs": [
    {
     "data": {
      "text/plain": [
       "[<matplotlib.lines.Line2D at 0x1430a4320>,\n",
       " <matplotlib.lines.Line2D at 0x1426d4cf8>,\n",
       " <matplotlib.lines.Line2D at 0x1426d40f0>,\n",
       " <matplotlib.lines.Line2D at 0x1426d4278>,\n",
       " <matplotlib.lines.Line2D at 0x1426d46a0>,\n",
       " <matplotlib.lines.Line2D at 0x1426d4710>]"
      ]
     },
     "execution_count": 444,
     "metadata": {},
     "output_type": "execute_result"
    },
    {
     "data": {
      "image/png": "[encoded data removed]",
      "text/plain": [
       "<Figure size 432x288 with 1 Axes>"
      ]
     },
     "metadata": {},
     "output_type": "display_data"
    }
   ],
   "source": [
    "# 差分之后可能有0值，再标准化的时候要注意除数不为0\n",
    "plt.plot(train_data)"
   ]
  },
  {
   "cell_type": "code",
   "execution_count": 445,
   "metadata": {},
   "outputs": [],
   "source": [
    "from numpy import *\n",
    "\n",
    "def normalise_zero_base(df):\n",
    "    return df / df.iloc[0] - 1\n",
    "\n",
    "def extract_window_data(df, window_len, zero_base=True):\n",
    "    \"\"\" Convert dataframe to overlapping sequences/windows of len `window_data`.\n",
    "    \n",
    "        :param window_len: Size of window\n",
    "        :param zero_base: If True, the data in each window is normalised to reflect changes\n",
    "            with respect to the first entry in the window (which is then always 0)\n",
    "    \"\"\"\n",
    "    window_data = []\n",
    "    for idx in range(len(df) - window_len):\n",
    "        tmp = df[idx: (idx + window_len)].copy()\n",
    "        if zero_base:\n",
    "            tmp = normalise_zero_base(tmp)\n",
    "        window_data.append(tmp.values)\n",
    "    return np.array(window_data)"
   ]
  },
  {
   "cell_type": "code",
   "execution_count": 446,
   "metadata": {},
   "outputs": [],
   "source": [
    "target_col = 'close'"
   ]
  },
  {
   "cell_type": "code",
   "execution_count": 447,
   "metadata": {},
   "outputs": [],
   "source": [
    "def prepare_data(train_data,test_data,target_col, window_len, test_size,zero_base=True):\n",
    "    \"\"\" Prepare data for LSTM. \"\"\"\n",
    "    \n",
    "    # extract window data, 并针对每一个window_len中的第一天做了变化百分比的处理\n",
    "    X_train = extract_window_data(train_data, window_len, zero_base)\n",
    "    X_test = extract_window_data(test_data, window_len, zero_base)\n",
    "    \n",
    "    # extract targets\n",
    "    # y_train也是差分后的值。但是，因为差分的时候少了一行（drop了为nan的第一行）\n",
    "    y_train = train_data[target_col][window_len:].values\n",
    "    y_test = test_data[target_col][window_len:].values\n",
    "    if zero_base:\n",
    "        y_train = y_train / train_data[target_col][:-window_len].values - 1\n",
    "        y_test = y_test / test_data[target_col][:-window_len].values - 1\n",
    "\n",
    "    return X_train, X_test, y_train, y_test"
   ]
  },
  {
   "cell_type": "code",
   "execution_count": 448,
   "metadata": {},
   "outputs": [],
   "source": [
    "X_train, X_test, y_train, y_test = prepare_data(\n",
    "    train_data,test_data, target_col, window_len=window_len, zero_base=zero_base, test_size=test_size)"
   ]
  },
  {
   "cell_type": "code",
   "execution_count": 491,
   "metadata": {},
   "outputs": [
    {
     "data": {
      "text/plain": [
       "array([[  0.        ,   0.        ,   0.        ,   0.        ,\n",
       "          0.        ,   0.        ],\n",
       "       [ -2.21647059,  -0.33202539,  -0.7328841 ,  -1.67568232,\n",
       "        -12.66166874, -13.28807038],\n",
       "       [ -3.82461538,  -3.08863243,   0.61967655,  -0.17359233,\n",
       "         -4.86644726,  -4.73794543],\n",
       "       [ -0.08235294,  -0.6356607 ,   3.4722372 ,   0.91849029,\n",
       "         -2.49300808,  -1.969482  ],\n",
       "       [ -0.30244344,  -1.23369879,  -2.5787062 ,  -1.62232604,\n",
       "          5.42007317,   5.66102467],\n",
       "       [  5.5518552 ,   0.37899596, -10.38948787,  -1.47479715,\n",
       "         15.77487429,  14.81401766],\n",
       "       [ -2.5838914 ,   2.2085401 ,  -0.55660377,  -5.45008606,\n",
       "        -16.15526301, -16.88616769]])"
      ]
     },
     "execution_count": 491,
     "metadata": {},
     "output_type": "execute_result"
    }
   ],
   "source": [
    "X_test[0] # 也是标准化之后的值"
   ]
  },
  {
   "cell_type": "code",
   "execution_count": 449,
   "metadata": {},
   "outputs": [],
   "source": [
    "from keras.regularizers import L1L2\n",
    "from keras import regularizers\n",
    "def build_lstm_model(input_data, output_size, neurons=100, activ_func='linear',\n",
    "                     dropout=0.25, loss='mse', optimizer='adam'):\n",
    "    model = Sequential()\n",
    "    print('input_data.shape'+str(input_data.shape))\n",
    "    # input shape = (window length,window length - 1)\n",
    "    # input shape tutorial: https://yq.aliyun.com/articles/194956\n",
    "    model.add(LSTM(neurons,input_shape=(input_data.shape[1], input_data.shape[2])))\n",
    "    model.add(Dropout(dropout))\n",
    "#     model.add(Dense(units=output_size,kernel_regularizer=regularizers.l2(0.01),\n",
    "#                 activity_regularizer=regularizers.l1(0.01)))\n",
    "    model.add(Dense(units=output_size))\n",
    "    model.add(Activation(activ_func))\n",
    "    # adam will auto-adjust its learning rate\n",
    "    model.compile(loss=loss, optimizer=optimizer)\n",
    "    return model"
   ]
  },
  {
   "cell_type": "markdown",
   "metadata": {},
   "source": [
    "Ideally a batch size of 1 would be used for walk-foward validation. We will assume **walk-forward validation** and predict the whole year for speed. As such we can use any batch size that is **divisble** by the number of samples, in this case we will use a value of 4. \n",
    "\n",
    "Keras不会自动处理无法整除的batch吗？"
   ]
  },
  {
   "cell_type": "code",
   "execution_count": 450,
   "metadata": {},
   "outputs": [],
   "source": [
    "np.random.seed(42)\n",
    "\n",
    "# data params\n",
    "window_len = 7\n",
    "test_size = 0.2\n",
    "zero_base = True\n",
    "\n",
    "# model params\n",
    "lstm_neurons = 100\n",
    "epochs = 50\n",
    "batch_size = 4\n",
    "loss = 'mse'\n",
    "dropout = 0.2\n",
    "optimizer = 'adam'"
   ]
  },
  {
   "cell_type": "code",
   "execution_count": 479,
   "metadata": {
    "collapsed": true
   },
   "outputs": [
    {
     "data": {
      "text/plain": [
       "Test Statistic                  -1.557418\n",
       "p-value                          0.504941\n",
       "#Lags Used                      19.000000\n",
       "Number of Observations Used    528.000000\n",
       "Critical Value (1%)             -3.442796\n",
       "Critical Value (5%)             -2.867030\n",
       "Critical Value (10%)            -2.569694\n",
       "dtype: float64"
      ]
     },
     "execution_count": 479,
     "metadata": {},
     "output_type": "execute_result"
    }
   ],
   "source": [
    "testStationarity(train['close'])"
   ]
  },
  {
   "cell_type": "code",
   "execution_count": 459,
   "metadata": {},
   "outputs": [
    {
     "data": {
      "text/plain": [
       "array([[ 0.00000000e+00,  0.00000000e+00,  0.00000000e+00,\n",
       "         0.00000000e+00,  0.00000000e+00,  0.00000000e+00],\n",
       "       [ 5.28369231e+00,  2.88337731e+01, -3.30679731e-02,\n",
       "        -2.48033318e-01, -1.09850408e+01, -1.25048655e+01],\n",
       "       [-9.98830769e+00, -4.48548813e-01, -1.00502143e+01,\n",
       "         3.72512726e+00, -9.23876434e+00, -8.46112890e+00],\n",
       "       [-7.35015385e+00, -3.35092348e+01, -2.34598898e+00,\n",
       "        -7.75890791e+00,  3.49809025e+00,  5.59940551e+00],\n",
       "       [-8.33230769e-01, -3.43931398e+01, -3.81016534e+00,\n",
       "        -5.77510412e+00,  5.26035507e+00,  5.64407062e+00],\n",
       "       [-2.62153846e-01,  8.30606860e+00,  3.23698714e+00,\n",
       "        -8.74595095e-01,  4.28916862e+00,  3.29444545e+00],\n",
       "       [-1.06646154e+00, -7.77044855e+00, -1.30251072e+00,\n",
       "        -4.45164276e-01,  4.09585364e-01,  4.40390606e-01]])"
      ]
     },
     "execution_count": 459,
     "metadata": {},
     "output_type": "execute_result"
    }
   ],
   "source": [
    "X_train[0]"
   ]
  },
  {
   "cell_type": "code",
   "execution_count": 460,
   "metadata": {},
   "outputs": [
    {
     "data": {
      "text/plain": [
       "-0.7175384615384596"
      ]
     },
     "execution_count": 460,
     "metadata": {},
     "output_type": "execute_result"
    }
   ],
   "source": [
    "y_train[0]"
   ]
  },
  {
   "cell_type": "markdown",
   "metadata": {},
   "source": [
    "**以上，都是已经difference and normalize的**"
   ]
  },
  {
   "cell_type": "code",
   "execution_count": 452,
   "metadata": {
    "collapsed": true
   },
   "outputs": [
    {
     "name": "stdout",
     "output_type": "stream",
     "text": [
      "input_data.shape(541, 7, 6)\n",
      "Epoch 1/50\n",
      "541/541 [==============================] - 4s 8ms/step - loss: 286.8662\n",
      "Epoch 2/50\n",
      "541/541 [==============================] - 1s 3ms/step - loss: 281.2734\n",
      "Epoch 3/50\n",
      "541/541 [==============================] - 1s 3ms/step - loss: 274.7199\n",
      "Epoch 4/50\n",
      "541/541 [==============================] - 1s 3ms/step - loss: 268.1841\n",
      "Epoch 5/50\n",
      "541/541 [==============================] - 1s 3ms/step - loss: 261.2218\n",
      "Epoch 6/50\n",
      "541/541 [==============================] - 1s 3ms/step - loss: 250.9228\n",
      "Epoch 7/50\n",
      "541/541 [==============================] - 1s 3ms/step - loss: 244.1785\n",
      "Epoch 8/50\n",
      "541/541 [==============================] - 1s 3ms/step - loss: 238.1624\n",
      "Epoch 9/50\n",
      "541/541 [==============================] - 1s 3ms/step - loss: 225.5946\n",
      "Epoch 10/50\n",
      "541/541 [==============================] - 1s 3ms/step - loss: 220.5452\n",
      "Epoch 11/50\n",
      "541/541 [==============================] - 1s 3ms/step - loss: 212.2238\n",
      "Epoch 12/50\n",
      "541/541 [==============================] - 2s 3ms/step - loss: 210.0551\n",
      "Epoch 13/50\n",
      "541/541 [==============================] - 1s 3ms/step - loss: 201.0782\n",
      "Epoch 14/50\n",
      "541/541 [==============================] - 2s 4ms/step - loss: 196.3080\n",
      "Epoch 15/50\n",
      "541/541 [==============================] - 1s 3ms/step - loss: 186.8173\n",
      "Epoch 16/50\n",
      "541/541 [==============================] - 1s 3ms/step - loss: 184.9547\n",
      "Epoch 17/50\n",
      "541/541 [==============================] - 1s 3ms/step - loss: 187.1737\n",
      "Epoch 18/50\n",
      "541/541 [==============================] - 2s 3ms/step - loss: 172.4788\n",
      "Epoch 19/50\n",
      "541/541 [==============================] - 2s 3ms/step - loss: 171.0319\n",
      "Epoch 20/50\n",
      "541/541 [==============================] - 2s 3ms/step - loss: 167.6745\n",
      "Epoch 21/50\n",
      "541/541 [==============================] - 2s 3ms/step - loss: 155.1364\n",
      "Epoch 22/50\n",
      "541/541 [==============================] - 2s 3ms/step - loss: 155.1008\n",
      "Epoch 23/50\n",
      "541/541 [==============================] - 2s 4ms/step - loss: 156.7606\n",
      "Epoch 24/50\n",
      "541/541 [==============================] - 2s 3ms/step - loss: 155.4469\n"
     ]
    }
   ],
   "source": [
    "from keras.callbacks import EarlyStopping\n",
    "from keras import optimizers\n",
    "\n",
    "# patience=2: 两次loss连续上升就会停止\n",
    "early_stopping = EarlyStopping(monitor='loss', patience=2)\n",
    "model = build_lstm_model(X_train, output_size=1, neurons=lstm_neurons, \n",
    "                         dropout=dropout, loss=loss)\n",
    "history = model.fit(X_train, y_train, epochs=epochs, batch_size=4,verbose=1, shuffle=True, callbacks=[early_stopping])"
   ]
  },
  {
   "cell_type": "code",
   "execution_count": 513,
   "metadata": {},
   "outputs": [
    {
     "data": {
      "text/plain": [
       "(129,)"
      ]
     },
     "execution_count": 513,
     "metadata": {},
     "output_type": "execute_result"
    }
   ],
   "source": [
    "preds = model.predict(X_test).squeeze()\n",
    "preds.shape"
   ]
  },
  {
   "cell_type": "code",
   "execution_count": 514,
   "metadata": {},
   "outputs": [
    {
     "data": {
      "text/plain": [
       "array([-0.8245396 ,  0.24193364, -0.7243242 , -0.47761047, -1.0156244 ],\n",
       "      dtype=float32)"
      ]
     },
     "execution_count": 514,
     "metadata": {},
     "output_type": "execute_result"
    }
   ],
   "source": [
    "# 乘以差分值，将他反norm\n",
    "preds[:5]"
   ]
  },
  {
   "cell_type": "code",
   "execution_count": 515,
   "metadata": {
    "collapsed": true
   },
   "outputs": [
    {
     "data": {
      "text/plain": [
       "Test Statistic                -1.171557e+01\n",
       "p-value                        1.454041e-21\n",
       "#Lags Used                     0.000000e+00\n",
       "Number of Observations Used    1.280000e+02\n",
       "Critical Value (1%)           -3.482501e+00\n",
       "Critical Value (5%)           -2.884398e+00\n",
       "Critical Value (10%)          -2.578960e+00\n",
       "dtype: float64"
      ]
     },
     "execution_count": 515,
     "metadata": {},
     "output_type": "execute_result"
    }
   ],
   "source": [
    "testStationarity(preds) # stationary. -10<-3"
   ]
  },
  {
   "cell_type": "code",
   "execution_count": 501,
   "metadata": {},
   "outputs": [
    {
     "data": {
      "text/plain": [
       "(129,)"
      ]
     },
     "execution_count": 501,
     "metadata": {},
     "output_type": "execute_result"
    }
   ],
   "source": [
    "test[target_col].values[:-window_len-1].shape"
   ]
  },
  {
   "cell_type": "code",
   "execution_count": 520,
   "metadata": {},
   "outputs": [
    {
     "data": {
      "text/plain": [
       "time\n",
       "2018-07-05    -55.25\n",
       "2018-07-06     67.21\n",
       "2018-07-07    156.06\n",
       "2018-07-08    -50.70\n",
       "2018-07-09    -38.54\n",
       "Name: close, dtype: float64"
      ]
     },
     "execution_count": 520,
     "metadata": {},
     "output_type": "execute_result"
    }
   ],
   "source": [
    "# inverse normalization: diff * (preds+1)\n",
    "diff_test = difference(test[target_col])\n",
    "diff_test[:5]"
   ]
  },
  {
   "cell_type": "code",
   "execution_count": 522,
   "metadata": {},
   "outputs": [
    {
     "data": {
      "text/plain": [
       "(136,)"
      ]
     },
     "execution_count": 522,
     "metadata": {},
     "output_type": "execute_result"
    }
   ],
   "source": [
    "diff_test.shape"
   ]
  },
  {
   "cell_type": "code",
   "execution_count": 524,
   "metadata": {},
   "outputs": [
    {
     "data": {
      "text/plain": [
       "(129,)"
      ]
     },
     "execution_count": 524,
     "metadata": {},
     "output_type": "execute_result"
    }
   ],
   "source": [
    "preds = (diff_test[window_len:]) * (preds + 1)\n",
    "preds.shape\n",
    "# 得到正常的差分值"
   ]
  },
  {
   "cell_type": "code",
   "execution_count": 525,
   "metadata": {},
   "outputs": [],
   "source": [
    "# inverse difference\n",
    "xi = []\n",
    "def inverse_difference(last_ob, forecast):\n",
    "    # invert first forecast\n",
    "    inverted = []\n",
    "    inverted.append(forecast[0] + last_ob)\n",
    "    # propagate difference forecast using inverted first value\n",
    "    for i in range(1, len(forecast)):\n",
    "        inverted.append(forecast[i] + inverted[i-1])\n",
    "    return inverted"
   ]
  },
  {
   "cell_type": "code",
   "execution_count": 526,
   "metadata": {},
   "outputs": [
    {
     "data": {
      "text/plain": [
       "6590.06"
      ]
     },
     "execution_count": 526,
     "metadata": {},
     "output_type": "execute_result"
    }
   ],
   "source": [
    "train,test = train_test_split(hist, test_size=0.2)\n",
    "test.iloc[0,0]"
   ]
  },
  {
   "cell_type": "code",
   "execution_count": 556,
   "metadata": {
    "collapsed": true
   },
   "outputs": [
    {
     "data": {
      "text/plain": [
       "time\n",
       "2018-07-04    6590.06\n",
       "2018-07-05    6534.81\n",
       "2018-07-06    6602.02\n",
       "2018-07-07    6758.08\n",
       "2018-07-08    6707.38\n",
       "2018-07-09    6668.84\n",
       "2018-07-10    6306.85\n",
       "2018-07-11    6394.36\n",
       "2018-07-12    6253.60\n",
       "2018-07-13    6229.83\n",
       "2018-07-14    6268.75\n",
       "2018-07-15    6364.26\n",
       "2018-07-16    6740.55\n",
       "2018-07-17    7326.70\n",
       "2018-07-18    7383.39\n",
       "2018-07-19    7477.50\n",
       "2018-07-20    7333.93\n",
       "2018-07-21    7405.40\n",
       "2018-07-22    7398.64\n",
       "2018-07-23    7718.00\n",
       "2018-07-24    8395.82\n",
       "2018-07-25    8170.23\n",
       "2018-07-26    7937.25\n",
       "2018-07-27    8182.89\n",
       "2018-07-28    8230.87\n",
       "2018-07-29    8216.78\n",
       "2018-07-30    8176.06\n",
       "2018-07-31    7735.30\n",
       "2018-08-01    7610.90\n",
       "2018-08-02    7542.34\n",
       "               ...   \n",
       "2018-10-19    6469.28\n",
       "2018-10-20    6490.56\n",
       "2018-10-21    6509.87\n",
       "2018-10-22    6483.23\n",
       "2018-10-23    6470.22\n",
       "2018-10-24    6476.25\n",
       "2018-10-25    6462.77\n",
       "2018-10-26    6457.21\n",
       "2018-10-27    6470.17\n",
       "2018-10-28    6470.74\n",
       "2018-10-29    6313.91\n",
       "2018-10-30    6309.11\n",
       "2018-10-31    6342.61\n",
       "2018-11-01    6381.30\n",
       "2018-11-02    6394.66\n",
       "2018-11-03    6376.32\n",
       "2018-11-04    6467.05\n",
       "2018-11-05    6433.74\n",
       "2018-11-06    6479.72\n",
       "2018-11-07    6529.68\n",
       "2018-11-08    6446.06\n",
       "2018-11-09    6377.99\n",
       "2018-11-10    6396.37\n",
       "2018-11-11    6408.18\n",
       "2018-11-12    6375.08\n",
       "2018-11-13    6339.17\n",
       "2018-11-14    5741.47\n",
       "2018-11-15    5647.50\n",
       "2018-11-16    5586.27\n",
       "2018-11-17    5548.40\n",
       "Name: close, Length: 137, dtype: float64"
      ]
     },
     "execution_count": 556,
     "metadata": {},
     "output_type": "execute_result"
    }
   ],
   "source": [
    "last_ob = test.iloc[:,0]\n",
    "last_ob"
   ]
  },
  {
   "cell_type": "code",
   "execution_count": 557,
   "metadata": {
    "collapsed": true
   },
   "outputs": [
    {
     "data": {
      "text/plain": [
       "time\n",
       "2018-07-12      3335.703123\n",
       "2018-07-13       677.938496\n",
       "2018-07-14       456.504399\n",
       "2018-07-15      4860.830938\n",
       "2018-07-16     -1836.034417\n",
       "2018-07-17     49773.484463\n",
       "2018-07-18      2523.024400\n",
       "2018-07-19     19248.817422\n",
       "2018-07-20    243243.688105\n",
       "2018-07-21    -19975.031823\n",
       "2018-07-22       111.440195\n",
       "2018-07-23    -12541.930714\n",
       "2018-07-24    197833.378912\n",
       "2018-07-25    -42751.463879\n",
       "2018-07-26    108502.874035\n",
       "2018-07-27      4787.770675\n",
       "2018-07-28      2379.891696\n",
       "2018-07-29     -8087.116468\n",
       "2018-07-30      2404.246641\n",
       "2018-07-31     37695.285690\n",
       "2018-08-01    -15543.207451\n",
       "2018-08-02      1891.619841\n",
       "2018-08-03    -65296.464538\n",
       "2018-08-04   -247164.162198\n",
       "2018-08-05      2678.457700\n",
       "2018-08-06      2932.034423\n",
       "2018-08-07     31124.979482\n",
       "2018-08-08     36381.670913\n",
       "2018-08-09    129602.580013\n",
       "2018-08-10    302434.720613\n",
       "                  ...      \n",
       "2018-10-19         8.104562\n",
       "2018-10-20       -32.003686\n",
       "2018-10-21       797.632265\n",
       "2018-10-22      1696.121189\n",
       "2018-10-23        62.602700\n",
       "2018-10-24       122.216189\n",
       "2018-10-25       158.989272\n",
       "2018-10-26        36.351952\n",
       "2018-10-27        -7.851553\n",
       "2018-10-28         0.616671\n",
       "2018-10-29     -2745.249391\n",
       "2018-10-30        32.664846\n",
       "2018-10-31      2938.054041\n",
       "2018-11-01     -2489.475147\n",
       "2018-11-02      1912.650605\n",
       "2018-11-03      -389.315823\n",
       "2018-11-04    -22951.677045\n",
       "2018-11-05     -5711.694887\n",
       "2018-11-06      2014.757924\n",
       "2018-11-07        61.688245\n",
       "2018-11-08      1875.412837\n",
       "2018-11-09     -1076.064801\n",
       "2018-11-10      -346.013805\n",
       "2018-11-11        67.786907\n",
       "2018-11-12      -616.081615\n",
       "2018-11-13      5300.196031\n",
       "2018-11-14   -164439.178715\n",
       "2018-11-15     12074.562251\n",
       "2018-11-16      5702.418433\n",
       "2018-11-17      3235.754380\n",
       "Name: close, Length: 129, dtype: float64"
      ]
     },
     "execution_count": 557,
     "metadata": {},
     "output_type": "execute_result"
    }
   ],
   "source": [
    "preds"
   ]
  },
  {
   "cell_type": "code",
   "execution_count": 558,
   "metadata": {
    "collapsed": true
   },
   "outputs": [
    {
     "data": {
      "text/plain": [
       "time\n",
       "2018-07-04    63858.487002\n",
       "2018-07-05    63803.237002\n",
       "2018-07-06    63870.447002\n",
       "2018-07-07    64026.507002\n",
       "2018-07-08    63975.807002\n",
       "2018-07-09    63937.267002\n",
       "2018-07-10    63575.277002\n",
       "2018-07-11    63662.787002\n",
       "2018-07-12    63522.027002\n",
       "2018-07-13    63498.257002\n",
       "2018-07-14    63537.177002\n",
       "2018-07-15    63632.687002\n",
       "2018-07-16    64008.977002\n",
       "2018-07-17    64595.127002\n",
       "2018-07-18    64651.817002\n",
       "2018-07-19    64745.927002\n",
       "2018-07-20    64602.357002\n",
       "2018-07-21    64673.827002\n",
       "2018-07-22    64667.067002\n",
       "2018-07-23    64986.427002\n",
       "2018-07-24    65664.247002\n",
       "2018-07-25    65438.657002\n",
       "2018-07-26    65205.677002\n",
       "2018-07-27    65451.317002\n",
       "2018-07-28    65499.297002\n",
       "2018-07-29    65485.207002\n",
       "2018-07-30    65444.487002\n",
       "2018-07-31    65003.727002\n",
       "2018-08-01    64879.327002\n",
       "2018-08-02    64810.767002\n",
       "                  ...     \n",
       "2018-10-19    63737.707002\n",
       "2018-10-20    63758.987002\n",
       "2018-10-21    63778.297002\n",
       "2018-10-22    63751.657002\n",
       "2018-10-23    63738.647002\n",
       "2018-10-24    63744.677002\n",
       "2018-10-25    63731.197002\n",
       "2018-10-26    63725.637002\n",
       "2018-10-27    63738.597002\n",
       "2018-10-28    63739.167002\n",
       "2018-10-29    63582.337002\n",
       "2018-10-30    63577.537002\n",
       "2018-10-31    63611.037002\n",
       "2018-11-01    63649.727002\n",
       "2018-11-02    63663.087002\n",
       "2018-11-03    63644.747002\n",
       "2018-11-04    63735.477002\n",
       "2018-11-05    63702.167002\n",
       "2018-11-06    63748.147002\n",
       "2018-11-07    63798.107002\n",
       "2018-11-08    63714.487002\n",
       "2018-11-09    63646.417002\n",
       "2018-11-10    63664.797002\n",
       "2018-11-11    63676.607002\n",
       "2018-11-12    63643.507002\n",
       "2018-11-13    63607.597002\n",
       "2018-11-14    63009.897002\n",
       "2018-11-15    62915.927002\n",
       "2018-11-16    62854.697002\n",
       "2018-11-17    62816.827002\n",
       "Name: close, Length: 137, dtype: float64"
      ]
     },
     "execution_count": 558,
     "metadata": {},
     "output_type": "execute_result"
    }
   ],
   "source": [
    "inverted = inverse_difference(last_ob, preds)\n",
    "inverted[5]\n",
    "#2018-07-04"
   ]
  },
  {
   "cell_type": "code",
   "execution_count": 559,
   "metadata": {},
   "outputs": [
    {
     "data": {
      "text/plain": [
       "129"
      ]
     },
     "execution_count": 559,
     "metadata": {},
     "output_type": "execute_result"
    }
   ],
   "source": [
    "len(inverted)"
   ]
  },
  {
   "cell_type": "code",
   "execution_count": 568,
   "metadata": {},
   "outputs": [
    {
     "data": {
      "text/plain": [
       "(129,)"
      ]
     },
     "execution_count": 568,
     "metadata": {},
     "output_type": "execute_result"
    }
   ],
   "source": [
    "# real values\n",
    "targets = test[target_col][:-8]\n",
    "targets.shape"
   ]
  },
  {
   "cell_type": "code",
   "execution_count": 569,
   "metadata": {},
   "outputs": [],
   "source": [
    "# inverted = pd.DataFrame(inverted,columns=['predicted'])\n",
    "# inverted['time'] = targets.index\n",
    "# inverted = inverted.set_index('time')\n",
    "# inverted.head()"
   ]
  },
  {
   "cell_type": "code",
   "execution_count": 570,
   "metadata": {},
   "outputs": [
    {
     "data": {
      "text/plain": [
       "time\n",
       "2018-07-04    6590.06\n",
       "2018-07-05    6534.81\n",
       "2018-07-06    6602.02\n",
       "2018-07-07    6758.08\n",
       "2018-07-08    6707.38\n",
       "Name: close, dtype: float64"
      ]
     },
     "execution_count": 570,
     "metadata": {},
     "output_type": "execute_result"
    }
   ],
   "source": [
    "targets.head()"
   ]
  },
  {
   "cell_type": "code",
   "execution_count": 574,
   "metadata": {},
   "outputs": [
    {
     "data": {
      "text/plain": [
       "[<matplotlib.lines.Line2D at 0x1472091d0>]"
      ]
     },
     "execution_count": 574,
     "metadata": {},
     "output_type": "execute_result"
    },
    {
     "data": {
      "image/png": "[encoded data removed]",
      "text/plain": [
       "<Figure size 432x288 with 1 Axes>"
      ]
     },
     "metadata": {},
     "output_type": "display_data"
    }
   ],
   "source": [
    "plt.plot(preds)"
   ]
  },
  {
   "cell_type": "code",
   "execution_count": 572,
   "metadata": {},
   "outputs": [
    {
     "data": {
      "text/plain": [
       "[<matplotlib.lines.Line2D at 0x14713ba58>]"
      ]
     },
     "execution_count": 572,
     "metadata": {},
     "output_type": "execute_result"
    },
    {
     "data": {
      "image/png": "[encoded data removed]",
      "text/plain": [
       "<Figure size 432x288 with 1 Axes>"
      ]
     },
     "metadata": {},
     "output_type": "display_data"
    }
   ],
   "source": [
    "plt.plot(targets)"
   ]
  },
  {
   "cell_type": "code",
   "execution_count": 575,
   "metadata": {},
   "outputs": [],
   "source": [
    "def line_plot(line1, line2, label1=None, label2=None, title='', lw=2):\n",
    "    fig, ax = plt.subplots(1, figsize=(8, 4))\n",
    "    ax.plot(line1, label=label1, linewidth=lw)\n",
    "    ax.plot(line2, label=label2, linewidth=lw)\n",
    "    ax.set_ylabel('price [AUD]', fontsize=14)\n",
    "    ax.set_title(title, fontsize=18)\n",
    "    ax.legend(loc='best', fontsize=18);"
   ]
  },
  {
   "cell_type": "code",
   "execution_count": 578,
   "metadata": {},
   "outputs": [],
   "source": [
    "# preds = pd.Series(index=targets.index, data=preds)\n",
    "# line_plot(targets, inverted,'actual', 'prediction','7 days prediction', lw=3)"
   ]
  },
  {
   "cell_type": "markdown",
   "metadata": {},
   "source": [
    "Loss is 500 -> 270 and becomes to be nan in few ms:  \n",
    "- https://stackoverflow.com/questions/37232782/nan-loss-when-training-regression-network\n",
    "- 把差分后的数据剔除0就好了。"
   ]
  },
  {
   "cell_type": "markdown",
   "metadata": {},
   "source": [
    "Bias Weight/ Input Weight/ Recurrent Weight Regularization:\n",
    "- https://machinelearningmastery.com/use-weight-regularization-lstm-networks-time-series-forecasting/\n",
    "- https://machinelearningmastery.com/multi-step-time-series-forecasting-long-short-term-memory-networks-python/"
   ]
  },
  {
   "cell_type": "markdown",
   "metadata": {},
   "source": [
    "dropna(inplace=True) is important."
   ]
  },
  {
   "cell_type": "code",
   "execution_count": 275,
   "metadata": {},
   "outputs": [
    {
     "data": {
      "text/plain": [
       "NoneType"
      ]
     },
     "execution_count": 275,
     "metadata": {},
     "output_type": "execute_result"
    }
   ],
   "source": [
    "type(None)"
   ]
  },
  {
   "cell_type": "code",
   "execution_count": 276,
   "metadata": {},
   "outputs": [
    {
     "data": {
      "text/plain": [
       "float"
      ]
     },
     "execution_count": 276,
     "metadata": {},
     "output_type": "execute_result"
    }
   ],
   "source": [
    "from numpy import NaN\n",
    "type(NaN)"
   ]
  },
  {
   "cell_type": "code",
   "execution_count": 291,
   "metadata": {},
   "outputs": [
    {
     "data": {
      "text/plain": [
       "float"
      ]
     },
     "execution_count": 291,
     "metadata": {},
     "output_type": "execute_result"
    }
   ],
   "source": [
    "type(nan)"
   ]
  },
  {
   "cell_type": "code",
   "execution_count": null,
   "metadata": {},
   "outputs": [],
   "source": []
  }
 ],
 "metadata": {
  "kernelspec": {
   "display_name": "Python 3",
   "language": "python",
   "name": "python3"
  },
  "language_info": {
   "codemirror_mode": {
    "name": "ipython",
    "version": 3
   },
   "file_extension": ".py",
   "mimetype": "text/x-python",
   "name": "python",
   "nbconvert_exporter": "python",
   "pygments_lexer": "ipython3",
   "version": "3.6.5"
  }
 },
 "nbformat": 4,
 "nbformat_minor": 2
}
