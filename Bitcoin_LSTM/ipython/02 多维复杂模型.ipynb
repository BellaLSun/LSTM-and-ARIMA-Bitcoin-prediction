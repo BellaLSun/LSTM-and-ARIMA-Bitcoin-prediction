{
 "cells": [
  {
   "cell_type": "code",
   "execution_count": 3,
   "metadata": {},
   "outputs": [
    {
     "name": "stderr",
     "output_type": "stream",
     "text": [
      "Using TensorFlow backend.\n"
     ]
    }
   ],
   "source": [
    "import json\n",
    "import requests\n",
    "\n",
    "from keras.models import Sequential\n",
    "from keras.layers import Activation, Dense, Dropout, LSTM\n",
    "import matplotlib.pyplot as plt\n",
    "import numpy as np\n",
    "import pandas as pd\n",
    "import seaborn as sns\n",
    "from sklearn.metrics import mean_absolute_error"
   ]
  },
  {
   "cell_type": "code",
   "execution_count": 4,
   "metadata": {},
   "outputs": [],
   "source": [
    "sns.set_palette('Set2')\n",
    "%matplotlib inline"
   ]
  },
  {
   "cell_type": "markdown",
   "metadata": {},
   "source": [
    "# Get data"
   ]
  },
  {
   "cell_type": "markdown",
   "metadata": {},
   "source": [
    "#### The data of Bitcoin/USD, we use joint URL in order to analyze the effect Ethereum later."
   ]
  },
  {
   "cell_type": "code",
   "execution_count": 5,
   "metadata": {},
   "outputs": [
    {
     "data": {
      "text/html": [
       "<div>\n",
       "<style scoped>\n",
       "    .dataframe tbody tr th:only-of-type {\n",
       "        vertical-align: middle;\n",
       "    }\n",
       "\n",
       "    .dataframe tbody tr th {\n",
       "        vertical-align: top;\n",
       "    }\n",
       "\n",
       "    .dataframe thead th {\n",
       "        text-align: right;\n",
       "    }\n",
       "</style>\n",
       "<table border=\"1\" class=\"dataframe\">\n",
       "  <thead>\n",
       "    <tr style=\"text-align: right;\">\n",
       "      <th></th>\n",
       "      <th>close</th>\n",
       "      <th>high</th>\n",
       "      <th>low</th>\n",
       "      <th>open</th>\n",
       "      <th>volumefrom</th>\n",
       "      <th>volumeto</th>\n",
       "    </tr>\n",
       "    <tr>\n",
       "      <th>time</th>\n",
       "      <th></th>\n",
       "      <th></th>\n",
       "      <th></th>\n",
       "      <th></th>\n",
       "      <th></th>\n",
       "      <th></th>\n",
       "    </tr>\n",
       "  </thead>\n",
       "  <tbody>\n",
       "    <tr>\n",
       "      <th>2013-05-23</th>\n",
       "      <td>126.3</td>\n",
       "      <td>126.93</td>\n",
       "      <td>123.0</td>\n",
       "      <td>123.8</td>\n",
       "      <td>22118.25</td>\n",
       "      <td>2772751.89</td>\n",
       "    </tr>\n",
       "  </tbody>\n",
       "</table>\n",
       "</div>"
      ],
      "text/plain": [
       "            close    high    low   open  volumefrom    volumeto\n",
       "time                                                           \n",
       "2013-05-23  126.3  126.93  123.0  123.8    22118.25  2772751.89"
      ]
     },
     "execution_count": 5,
     "metadata": {},
     "output_type": "execute_result"
    }
   ],
   "source": [
    "# API of Cryptographic currency in json format\n",
    "url = 'https://min-api.cryptocompare.com/data/histoday'\n",
    "res = requests.get(url + '?fsym=BTC&tsym=USD&limit=2000')\n",
    "hist = pd.DataFrame(json.loads(res.content)['Data'])\n",
    "hist = hist.set_index('time')\n",
    "hist.index = pd.to_datetime(hist.index, unit='s')\n",
    "hist.head(1)"
   ]
  },
  {
   "cell_type": "code",
   "execution_count": 6,
   "metadata": {},
   "outputs": [
    {
     "data": {
      "text/html": [
       "<div>\n",
       "<style scoped>\n",
       "    .dataframe tbody tr th:only-of-type {\n",
       "        vertical-align: middle;\n",
       "    }\n",
       "\n",
       "    .dataframe tbody tr th {\n",
       "        vertical-align: top;\n",
       "    }\n",
       "\n",
       "    .dataframe thead th {\n",
       "        text-align: right;\n",
       "    }\n",
       "</style>\n",
       "<table border=\"1\" class=\"dataframe\">\n",
       "  <thead>\n",
       "    <tr style=\"text-align: right;\">\n",
       "      <th></th>\n",
       "      <th>close</th>\n",
       "      <th>high</th>\n",
       "      <th>low</th>\n",
       "      <th>open</th>\n",
       "      <th>volumefrom</th>\n",
       "      <th>volumeto</th>\n",
       "    </tr>\n",
       "    <tr>\n",
       "      <th>time</th>\n",
       "      <th></th>\n",
       "      <th></th>\n",
       "      <th></th>\n",
       "      <th></th>\n",
       "      <th></th>\n",
       "      <th></th>\n",
       "    </tr>\n",
       "  </thead>\n",
       "  <tbody>\n",
       "    <tr>\n",
       "      <th>2018-11-13</th>\n",
       "      <td>6346.28</td>\n",
       "      <td>6381.17</td>\n",
       "      <td>6315.58</td>\n",
       "      <td>6375.08</td>\n",
       "      <td>12096.19</td>\n",
       "      <td>77075957.6</td>\n",
       "    </tr>\n",
       "  </tbody>\n",
       "</table>\n",
       "</div>"
      ],
      "text/plain": [
       "              close     high      low     open  volumefrom    volumeto\n",
       "time                                                                  \n",
       "2018-11-13  6346.28  6381.17  6315.58  6375.08    12096.19  77075957.6"
      ]
     },
     "execution_count": 6,
     "metadata": {},
     "output_type": "execute_result"
    }
   ],
   "source": [
    "hist.tail(1)"
   ]
  },
  {
   "cell_type": "markdown",
   "metadata": {},
   "source": [
    "#### Now set close price as target data, and later we will add price gap into model"
   ]
  },
  {
   "cell_type": "markdown",
   "metadata": {},
   "source": [
    "# Split training and test dataset"
   ]
  },
  {
   "cell_type": "markdown",
   "metadata": {},
   "source": [
    "80% is used for training, 20% is used for testing."
   ]
  },
  {
   "cell_type": "code",
   "execution_count": 7,
   "metadata": {},
   "outputs": [],
   "source": [
    "def train_test_split(df, test_size):\n",
    "    split_row = len(df) - int(test_size * len(df))\n",
    "    train_data = df.iloc[:split_row]\n",
    "    test_data = df.iloc[split_row:]\n",
    "    return train_data, test_data"
   ]
  },
  {
   "cell_type": "markdown",
   "metadata": {},
   "source": [
    "# Build LSTM Model"
   ]
  },
  {
   "cell_type": "markdown",
   "metadata": {},
   "source": [
    "#### Normalization"
   ]
  },
  {
   "cell_type": "markdown",
   "metadata": {},
   "source": [
    "As the model does not ought to predict future price, but future change percentage."
   ]
  },
  {
   "cell_type": "code",
   "execution_count": 9,
   "metadata": {},
   "outputs": [],
   "source": [
    "# The other way: scaler = scaler = StandardScaler()\n",
    "# 但是模型的目的不是变成正态分布，而是将第一天设为0，计算的变化值，然后再根据基准值，\n",
    "def normalise_zero_base(df):\n",
    "    \"\"\" Normalise dataframe column-wise to reflect changes with respect to first entry. \"\"\"\n",
    "    return df / df.iloc[0] - 1"
   ]
  },
  {
   "cell_type": "markdown",
   "metadata": {},
   "source": [
    "#### smoothed data for average-n-days"
   ]
  },
  {
   "cell_type": "code",
   "execution_count": 10,
   "metadata": {},
   "outputs": [],
   "source": [
    "def extract_window_data(df, window_len, zero_base=True):\n",
    "    \"\"\" Convert dataframe to overlapping sequences/windows of len `window_data`.\n",
    "    \n",
    "        :param window_len: Size of window\n",
    "        :param zero_base: If True, the data in each window is normalised to reflect changes\n",
    "            with respect to the first entry in the window (which is then always 0)\n",
    "    \"\"\"\n",
    "    window_data = []\n",
    "    for idx in range(len(df) - window_len):\n",
    "        tmp = df[idx: (idx + window_len)].copy()\n",
    "        if zero_base:\n",
    "            tmp = normalise_zero_base(tmp)\n",
    "        window_data.append(tmp.values)\n",
    "    return np.array(window_data)"
   ]
  },
  {
   "cell_type": "code",
   "execution_count": 16,
   "metadata": {},
   "outputs": [],
   "source": [
    "target_col = 'close'"
   ]
  },
  {
   "cell_type": "code",
   "execution_count": 17,
   "metadata": {},
   "outputs": [],
   "source": [
    "def prepare_data(df, target_col,window_len, zero_base=True, test_size=0.2):\n",
    "    \"\"\" Prepare data for LSTM. \"\"\"\n",
    "    # train test split\n",
    "    train_data, test_data = train_test_split(df, test_size=test_size)\n",
    "    \n",
    "    # extract window data\n",
    "    X_train = extract_window_data(train_data, window_len, zero_base)\n",
    "    X_test = extract_window_data(test_data, window_len, zero_base)\n",
    "    \n",
    "    # extract targets\n",
    "#     y_train = train_data[target_col][window_len:].values\n",
    "#     y_test = test_data[target_col][window_len:].values\n",
    "    y_train = train_data[target_col][window_len:].values\n",
    "    y_test = test_data[target_col][window_len:].values\n",
    "    if zero_base:\n",
    "        # 后n天比前n天的比值,变化的百分比\n",
    "        y_train = y_train / train_data[target_col][:-window_len].values - 1\n",
    "        y_test = y_test / test_data[target_col][:-window_len].values - 1\n",
    "\n",
    "    return train_data, test_data, X_train, X_test, y_train, y_test"
   ]
  },
  {
   "cell_type": "markdown",
   "metadata": {},
   "source": [
    "#### 1 layer LSTM model"
   ]
  },
  {
   "cell_type": "code",
   "execution_count": 18,
   "metadata": {},
   "outputs": [],
   "source": [
    "# sigmoid is not as good as linear, as this data is one dimension and linear structure.\n",
    "def build_lstm_model(input_data, output_size, neurons=20, activ_func='linear',\n",
    "                     dropout=0.25, loss='mae', optimizer='adam'):\n",
    "    model = Sequential()\n",
    "    print('input_data.shape'+str(input_data.shape))\n",
    "    # LSTM: input data should be 3D tensor with shape (nb_samples, timesteps, input_dim).\n",
    "    model.add(LSTM(neurons, input_shape=(input_data.shape[1], input_data.shape[2])))\n",
    "    model.add(Dropout(dropout))\n",
    "    model.add(Dense(units=output_size))\n",
    "    model.add(Activation(activ_func))\n",
    "\n",
    "    model.compile(loss=loss, optimizer=optimizer)\n",
    "    return model"
   ]
  },
  {
   "cell_type": "code",
   "execution_count": 19,
   "metadata": {},
   "outputs": [],
   "source": [
    "np.random.seed(42)\n",
    "\n",
    "# data params\n",
    "window_len = 90\n",
    "test_size = 0.15\n",
    "zero_base = True\n",
    "\n",
    "# model params\n",
    "lstm_neurons = 20\n",
    "epochs = 50\n",
    "batch_size = 4\n",
    "loss = 'mae'\n",
    "dropout = 0.25\n",
    "optimizer = 'adam'\n",
    "\n",
    "# train, test = train_test_split(hist, test_size=0.2)\n",
    "\n",
    "train, test, X_train, X_test, y_train, y_test = prepare_data(\n",
    "    hist, target_col, window_len=window_len, zero_base=zero_base, test_size=test_size)"
   ]
  },
  {
   "cell_type": "code",
   "execution_count": 20,
   "metadata": {},
   "outputs": [
    {
     "data": {
      "text/plain": [
       "(1611, 90, 6)"
      ]
     },
     "execution_count": 20,
     "metadata": {},
     "output_type": "execute_result"
    }
   ],
   "source": [
    "X_train.shape"
   ]
  },
  {
   "cell_type": "code",
   "execution_count": 21,
   "metadata": {},
   "outputs": [
    {
     "data": {
      "text/plain": [
       "(300, 6)"
      ]
     },
     "execution_count": 21,
     "metadata": {},
     "output_type": "execute_result"
    }
   ],
   "source": [
    "# pandas dataframe\n",
    "test.shape"
   ]
  },
  {
   "cell_type": "code",
   "execution_count": 22,
   "metadata": {},
   "outputs": [
    {
     "data": {
      "text/plain": [
       "(210, 90, 6)"
      ]
     },
     "execution_count": 22,
     "metadata": {},
     "output_type": "execute_result"
    }
   ],
   "source": [
    "# 经过标准化的\n",
    "X_test.shape"
   ]
  },
  {
   "cell_type": "code",
   "execution_count": 23,
   "metadata": {},
   "outputs": [
    {
     "name": "stdout",
     "output_type": "stream",
     "text": [
      "input_data.shape(1611, 90, 6)\n",
      "Epoch 1/50\n",
      "1611/1611 [==============================] - 33s 20ms/step - loss: 0.3293\n",
      "Epoch 2/50\n",
      "1611/1611 [==============================] - 32s 20ms/step - loss: 0.1799\n",
      "Epoch 3/50\n",
      "1611/1611 [==============================] - 34s 21ms/step - loss: 0.1416\n",
      "Epoch 4/50\n",
      "1611/1611 [==============================] - 34s 21ms/step - loss: 0.1348\n",
      "Epoch 5/50\n",
      "1611/1611 [==============================] - 35s 22ms/step - loss: 0.1203\n",
      "Epoch 6/50\n",
      "1611/1611 [==============================] - 33s 21ms/step - loss: 0.1134\n",
      "Epoch 7/50\n",
      "1611/1611 [==============================] - 32s 20ms/step - loss: 0.1225\n",
      "Epoch 8/50\n",
      "1611/1611 [==============================] - 31s 19ms/step - loss: 0.1161\n"
     ]
    }
   ],
   "source": [
    "from keras.callbacks import EarlyStopping\n",
    "\n",
    "# 两次loss连续上升就会停止\n",
    "early_stopping = EarlyStopping(monitor='loss', patience=2)\n",
    "\n",
    "model = build_lstm_model(X_train, output_size=1, neurons=lstm_neurons, dropout=dropout, loss=loss, optimizer=optimizer)\n",
    "history = model.fit(X_train, y_train, epochs=epochs, batch_size=batch_size, \n",
    "                    verbose=1, shuffle=True,callbacks=[early_stopping])"
   ]
  },
  {
   "cell_type": "markdown",
   "metadata": {},
   "source": [
    "# Multiple time sequence Prediction"
   ]
  },
  {
   "cell_type": "code",
   "execution_count": 553,
   "metadata": {},
   "outputs": [],
   "source": [
    "def predict_sequences_multiple(model, data, window_size, prediction_len):\n",
    "    prediction_seqs = []\n",
    "    for i in range(int(len(data)/prediction_len)):\n",
    "        # 每prediction_len一个区间\n",
    "        curr_frame = data[i*prediction_len]\n",
    "        predicted = []\n",
    "        # 在每个prediction_len的区间内\n",
    "        for j in range(prediction_len):\n",
    "            # 新加一个维度\n",
    "            predicted.append(model.predict(curr_frame[np.newaxis,:,:])[0,0])\n",
    "            # 每次移动一个位置，加入新的预测值进行下一次预测\n",
    "            curr_frame = curr_frame[1:]\n",
    "            # 必须是1，不然：list index out of range，因为上一行代码推进了一个数据点\n",
    "            curr_frame = np.insert(curr_frame, [window_size-1], predicted[-1], axis=0)\n",
    "        prediction_seqs.append(predicted)\n",
    "    print('prediction_seqs shape'+ str(np.array(prediction_seqs).shape))\n",
    "    return prediction_seqs\n",
    "\n",
    "def plot_results_multiple(predicted_data, true_data, prediction_len):\n",
    "    fig = plt.figure(facecolor='white')\n",
    "    ax = fig.add_subplot(111)\n",
    "    ax.plot(true_data, label='True Data')\n",
    "    #Pad the list of predictions to shift it in the graph to it's correct start\n",
    "    for i, data in enumerate(predicted_data):\n",
    "        # 如果是prediction_len的倍数，就空一个点\n",
    "        padding = [None for p in range(i * prediction_len)]\n",
    "#         plt.plot(padding + data,label='prediction')\n",
    "        plt.plot(padding + data)\n",
    "        plt.legend(loc=2, bbox_to_anchor=(1.05,1.0),borderaxespad = 0.)\n",
    "    plt.xticks(rotation=45)\n",
    "    plt.show()"
   ]
  },
  {
   "cell_type": "code",
   "execution_count": 554,
   "metadata": {},
   "outputs": [
    {
     "data": {
      "text/plain": [
       "numpy.ndarray"
      ]
     },
     "execution_count": 554,
     "metadata": {},
     "output_type": "execute_result"
    }
   ],
   "source": [
    "type(X_test)"
   ]
  },
  {
   "cell_type": "code",
   "execution_count": 555,
   "metadata": {},
   "outputs": [
    {
     "data": {
      "text/plain": [
       "(210, 90, 6)"
      ]
     },
     "execution_count": 555,
     "metadata": {},
     "output_type": "execute_result"
    }
   ],
   "source": [
    "X_test.shape"
   ]
  },
  {
   "cell_type": "code",
   "execution_count": 556,
   "metadata": {},
   "outputs": [
    {
     "data": {
      "text/plain": [
       "(210,)"
      ]
     },
     "execution_count": 556,
     "metadata": {},
     "output_type": "execute_result"
    }
   ],
   "source": [
    "# predictions \n",
    "y_test.shape"
   ]
  },
  {
   "cell_type": "code",
   "execution_count": 557,
   "metadata": {},
   "outputs": [
    {
     "name": "stdout",
     "output_type": "stream",
     "text": [
      "prediction_seqs shape(30, 7)\n",
      "predictions shape(30, 7)\n"
     ]
    },
    {
     "data": {
      "image/png": "[encoded data removed]",
      "text/plain": [
       "<Figure size 432x288 with 1 Axes>"
      ]
     },
     "metadata": {},
     "output_type": "display_data"
    }
   ],
   "source": [
    "predictions = predict_sequences_multiple(model, X_test, 90, 7)\n",
    "print ('predictions shape'+str(np.array(predictions).shape))\n",
    "plot_results_multiple(predictions, y_test, 7)"
   ]
  },
  {
   "cell_type": "code",
   "execution_count": 558,
   "metadata": {},
   "outputs": [
    {
     "data": {
      "text/plain": [
       "array([-0.4579693 , -0.43445778, -0.4093933 , -0.3852365 , -0.36194995,\n",
       "       -0.3396275 , -0.31829697], dtype=float32)"
      ]
     },
     "execution_count": 558,
     "metadata": {},
     "output_type": "execute_result"
    }
   ],
   "source": [
    "predictions = np.array(predictions)\n",
    "predictions[0]"
   ]
  },
  {
   "cell_type": "code",
   "execution_count": 559,
   "metadata": {},
   "outputs": [],
   "source": [
    "# for i in range(5):\n",
    "#     print (i) # 0-4"
   ]
  },
  {
   "cell_type": "markdown",
   "metadata": {},
   "source": [
    "### 把标准化的数据还原为正常值"
   ]
  },
  {
   "cell_type": "markdown",
   "metadata": {},
   "source": [
    "unnorm_pre = []\n",
    "def predict_unnorm_data(data,prediction_len):\n",
    "    for i in range(int(len(data)/prediction_len)):\n",
    "        # 每prediction_len一个区间\n",
    "        predicted_line = []\n",
    "        p = test[target_col][i*prediction_len]\n",
    "        for j in range(prediction_len):\n",
    "            # 每一天都是基于上一天进行变化的\n",
    "            p = p*(1+predictions[i][j])\n",
    "            predicted_line.append(p)\n",
    "        unnorm_pre.append(predicted_line)\n",
    "    return unnorm_pre       "
   ]
  },
  {
   "cell_type": "code",
   "execution_count": null,
   "metadata": {},
   "outputs": [],
   "source": [
    "# scaler = MinMaxScaler(feature_range=(-1, 1))\n",
    "# 直接用 inverted = scaler.inverse_transform(array)\n",
    "unnorm_pre = []\n",
    "def predict_unnorm_data(data,prediction_len):\n",
    "    for i in range(int(len(data)/prediction_len)):\n",
    "        # 每prediction_len一个区间\n",
    "        predicted_line = []\n",
    "        for j in range(prediction_len):\n",
    "            p = test[target_col][i*prediction_len]\n",
    "            # 每一天都是基于第一天进行变化的\n",
    "            p = p*(1+predictions[i][j])\n",
    "            predicted_line.append(p)\n",
    "        unnorm_pre.append(predicted_line)\n",
    "    return unnorm_pre "
   ]
  },
  {
   "cell_type": "code",
   "execution_count": 561,
   "metadata": {},
   "outputs": [],
   "source": [
    "y_test = test[target_col][window_len:].values\n",
    "predict_unnorm_data = predict_unnorm_data(y_test,prediction_len=7)"
   ]
  },
  {
   "cell_type": "markdown",
   "metadata": {},
   "source": [
    "### 方法1: 把预测值flatten，加上同样的索引，再画图。虽然解决了时间index的绘制问题，但是却因为没有设padding，但其实并不影响"
   ]
  },
  {
   "cell_type": "code",
   "execution_count": 562,
   "metadata": {},
   "outputs": [
    {
     "data": {
      "text/plain": [
       "(210, 1)"
      ]
     },
     "execution_count": 562,
     "metadata": {},
     "output_type": "execute_result"
    }
   ],
   "source": [
    "# 真实值\n",
    "y_true = test[target_col][window_len:]\n",
    "# 预测值flatten\n",
    "predict_unnorm_data = np.array(predict_unnorm_data).reshape(-1)\n",
    "predict_unnorm_data = pd.DataFrame(predict_unnorm_data)\n",
    "# 统一矩阵大小\n",
    "n_shape = len(predict_unnorm_data)\n",
    "y_true = pd.DataFrame(y_true)\n",
    "y_true = y_true[:n_shape]\n",
    "y_true.shape\n",
    "# 统一时间index\n",
    "predict_unnorm_data['time'] = y_true.index\n",
    "predict_unnorm_data.columns = ['y_true', 'time']\n",
    "predict_unnorm_data = predict_unnorm_data.set_index('time')\n",
    "predict_unnorm_data.shape"
   ]
  },
  {
   "cell_type": "code",
   "execution_count": 563,
   "metadata": {},
   "outputs": [],
   "source": [
    "def plot(predicted_data, true_data):\n",
    "    fig = plt.figure(facecolor='white')\n",
    "    ax = fig.add_subplot(111)\n",
    "    ax.plot(true_data, label='True Data')\n",
    "    plt.xticks(rotation=45)\n",
    "    plt.plot(predicted_data, label='Prediction')\n",
    "    plt.legend(loc=2, bbox_to_anchor=(1.05,1.0),borderaxespad = 0.)\n",
    "    plt.show()"
   ]
  },
  {
   "cell_type": "code",
   "execution_count": 564,
   "metadata": {},
   "outputs": [
    {
     "data": {
      "image/png": "[encoded data removed]",
      "text/plain": [
       "<Figure size 432x288 with 1 Axes>"
      ]
     },
     "metadata": {},
     "output_type": "display_data"
    }
   ],
   "source": [
    "plot(predict_unnorm_data,y_true)"
   ]
  },
  {
   "cell_type": "code",
   "execution_count": 565,
   "metadata": {},
   "outputs": [
    {
     "name": "stdout",
     "output_type": "stream",
     "text": [
      "1362.2878511198817\n"
     ]
    }
   ],
   "source": [
    "### 计算RMSE，并将数据存到csv\n",
    "from datetime import datetime,timedelta\n",
    "import math\n",
    "from sklearn.metrics import mean_squared_error\n",
    "\n",
    "# truncate预测日期\n",
    "begin_date = datetime(year=2018, month=10, day=18)\n",
    "end_date = begin_date + timedelta(days=6)\n",
    "# 求指定预测日期之间的RMSR\n",
    "mse = mean_squared_error(y_true[begin_date:end_date], predict_unnorm_data[begin_date:end_date])\n",
    "rmse = math.sqrt(mse)\n",
    "print(rmse)"
   ]
  },
  {
   "cell_type": "code",
   "execution_count": 536,
   "metadata": {},
   "outputs": [
    {
     "data": {
      "text/html": [
       "<div>\n",
       "<style scoped>\n",
       "    .dataframe tbody tr th:only-of-type {\n",
       "        vertical-align: middle;\n",
       "    }\n",
       "\n",
       "    .dataframe tbody tr th {\n",
       "        vertical-align: top;\n",
       "    }\n",
       "\n",
       "    .dataframe thead th {\n",
       "        text-align: right;\n",
       "    }\n",
       "</style>\n",
       "<table border=\"1\" class=\"dataframe\">\n",
       "  <thead>\n",
       "    <tr style=\"text-align: right;\">\n",
       "      <th></th>\n",
       "      <th>y_true</th>\n",
       "      <th>predict_unnorm_data</th>\n",
       "      <th>rmse</th>\n",
       "    </tr>\n",
       "    <tr>\n",
       "      <th>time</th>\n",
       "      <th></th>\n",
       "      <th></th>\n",
       "      <th></th>\n",
       "    </tr>\n",
       "  </thead>\n",
       "  <tbody>\n",
       "    <tr>\n",
       "      <th>2018-10-18</th>\n",
       "      <td>6488.72</td>\n",
       "      <td>7368.099158</td>\n",
       "      <td>865.481638</td>\n",
       "    </tr>\n",
       "    <tr>\n",
       "      <th>2018-10-19</th>\n",
       "      <td>6469.28</td>\n",
       "      <td>7368.099158</td>\n",
       "      <td>865.481638</td>\n",
       "    </tr>\n",
       "    <tr>\n",
       "      <th>2018-10-20</th>\n",
       "      <td>6490.56</td>\n",
       "      <td>7368.099158</td>\n",
       "      <td>865.481638</td>\n",
       "    </tr>\n",
       "    <tr>\n",
       "      <th>2018-10-21</th>\n",
       "      <td>6509.87</td>\n",
       "      <td>7368.099158</td>\n",
       "      <td>865.481638</td>\n",
       "    </tr>\n",
       "    <tr>\n",
       "      <th>2018-10-22</th>\n",
       "      <td>6483.23</td>\n",
       "      <td>7368.099158</td>\n",
       "      <td>865.481638</td>\n",
       "    </tr>\n",
       "    <tr>\n",
       "      <th>2018-10-23</th>\n",
       "      <td>6470.22</td>\n",
       "      <td>7301.661766</td>\n",
       "      <td>865.481638</td>\n",
       "    </tr>\n",
       "    <tr>\n",
       "      <th>2018-10-24</th>\n",
       "      <td>6476.25</td>\n",
       "      <td>7301.661766</td>\n",
       "      <td>865.481638</td>\n",
       "    </tr>\n",
       "  </tbody>\n",
       "</table>\n",
       "</div>"
      ],
      "text/plain": [
       "             y_true  predict_unnorm_data        rmse\n",
       "time                                                \n",
       "2018-10-18  6488.72          7368.099158  865.481638\n",
       "2018-10-19  6469.28          7368.099158  865.481638\n",
       "2018-10-20  6490.56          7368.099158  865.481638\n",
       "2018-10-21  6509.87          7368.099158  865.481638\n",
       "2018-10-22  6483.23          7368.099158  865.481638\n",
       "2018-10-23  6470.22          7301.661766  865.481638\n",
       "2018-10-24  6476.25          7301.661766  865.481638"
      ]
     },
     "execution_count": 536,
     "metadata": {},
     "output_type": "execute_result"
    }
   ],
   "source": [
    "# 合并dataframe\n",
    "file = pd.concat([y_true, predict_unnorm_data],axis=1)\n",
    "file.columns = ['y_true', 'predict_unnorm_data']\n",
    "# new column 'rmse'\n",
    "file['rmse'] = rmse\n",
    "file[begin_date:end_date]"
   ]
  },
  {
   "cell_type": "markdown",
   "metadata": {},
   "source": [
    "### 方法2: 将时间index循环放到predict_unnorm_data里，再画图，就可以加入padding进行空格"
   ]
  },
  {
   "cell_type": "code",
   "execution_count": null,
   "metadata": {},
   "outputs": [],
   "source": [
    "predict_unnorm_data = np.array(predict_unnorm_data)\n",
    "predict_unnorm_data = pd.DataFrame(predict_unnorm_data)\n",
    "\n",
    "# 真实值\n",
    "y_true = test[target_col][window_len:]\n",
    "y_true.index[0]\n",
    "\n",
    "def set_index(data,prediction_len):\n",
    "    time_index = []\n",
    "    n = len(predict_unnorm_data)\n",
    "    for i in range(n):\n",
    "        time = y_true.index[prediction_len*i]\n",
    "        print('time is '+str(time))\n",
    "        time_index.append(time)\n",
    "    return time_index\n",
    "\n",
    "time_index = set_index(predict_unnorm_data,7)\n",
    "\n",
    "predict_unnorm_data['time'] = time_index\n",
    "predict_unnorm_data = predict_unnorm_data.set_index('time')\n",
    "\n",
    "plot_results_multiple(predict_unnorm_data, y_true, 7)"
   ]
  },
  {
   "cell_type": "markdown",
   "metadata": {},
   "source": [
    "### 以上，已经实现了用6维输入，并用预测值进行预测。"
   ]
  }
 ],
 "metadata": {
  "kernelspec": {
   "display_name": "Python 3",
   "language": "python",
   "name": "python3"
  },
  "language_info": {
   "codemirror_mode": {
    "name": "ipython",
    "version": 3
   },
   "file_extension": ".py",
   "mimetype": "text/x-python",
   "name": "python",
   "nbconvert_exporter": "python",
   "pygments_lexer": "ipython3",
   "version": "3.6.5"
  }
 },
 "nbformat": 4,
 "nbformat_minor": 2
}
