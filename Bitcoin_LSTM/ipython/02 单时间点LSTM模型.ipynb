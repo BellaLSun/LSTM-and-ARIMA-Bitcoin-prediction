{
 "cells": [
  {
   "cell_type": "code",
   "execution_count": 3,
   "metadata": {},
   "outputs": [
    {
     "name": "stderr",
     "output_type": "stream",
     "text": [
      "Using TensorFlow backend.\n"
     ]
    }
   ],
   "source": [
    "import json\n",
    "import requests\n",
    "\n",
    "from keras.models import Sequential\n",
    "from keras.layers import Activation, Dense, Dropout, LSTM\n",
    "import matplotlib.pyplot as plt\n",
    "import numpy as np\n",
    "import pandas as pd\n",
    "import seaborn as sns\n",
    "from sklearn.metrics import mean_absolute_error"
   ]
  },
  {
   "cell_type": "code",
   "execution_count": 4,
   "metadata": {},
   "outputs": [],
   "source": [
    "sns.set_palette('Set2')\n",
    "%matplotlib inline"
   ]
  },
  {
   "cell_type": "markdown",
   "metadata": {},
   "source": [
    "# Get data"
   ]
  },
  {
   "cell_type": "markdown",
   "metadata": {},
   "source": [
    "#### The data of Bitcoin/USD, we use joint URL in order to analyze the effect Ethereum later."
   ]
  },
  {
   "cell_type": "code",
   "execution_count": 17,
   "metadata": {},
   "outputs": [
    {
     "data": {
      "text/html": [
       "<div>\n",
       "<style scoped>\n",
       "    .dataframe tbody tr th:only-of-type {\n",
       "        vertical-align: middle;\n",
       "    }\n",
       "\n",
       "    .dataframe tbody tr th {\n",
       "        vertical-align: top;\n",
       "    }\n",
       "\n",
       "    .dataframe thead th {\n",
       "        text-align: right;\n",
       "    }\n",
       "</style>\n",
       "<table border=\"1\" class=\"dataframe\">\n",
       "  <thead>\n",
       "    <tr style=\"text-align: right;\">\n",
       "      <th></th>\n",
       "      <th>close</th>\n",
       "      <th>high</th>\n",
       "      <th>low</th>\n",
       "      <th>open</th>\n",
       "      <th>volumefrom</th>\n",
       "      <th>volumeto</th>\n",
       "    </tr>\n",
       "    <tr>\n",
       "      <th>time</th>\n",
       "      <th></th>\n",
       "      <th></th>\n",
       "      <th></th>\n",
       "      <th></th>\n",
       "      <th></th>\n",
       "      <th></th>\n",
       "    </tr>\n",
       "  </thead>\n",
       "  <tbody>\n",
       "    <tr>\n",
       "      <th>2013-05-17</th>\n",
       "      <td>123.50</td>\n",
       "      <td>125.56</td>\n",
       "      <td>116.57</td>\n",
       "      <td>118.21</td>\n",
       "      <td>79123.93</td>\n",
       "      <td>9608029.60</td>\n",
       "    </tr>\n",
       "    <tr>\n",
       "      <th>2013-05-18</th>\n",
       "      <td>123.21</td>\n",
       "      <td>125.31</td>\n",
       "      <td>122.25</td>\n",
       "      <td>123.50</td>\n",
       "      <td>22652.03</td>\n",
       "      <td>2804847.39</td>\n",
       "    </tr>\n",
       "    <tr>\n",
       "      <th>2013-05-19</th>\n",
       "      <td>122.50</td>\n",
       "      <td>124.50</td>\n",
       "      <td>119.50</td>\n",
       "      <td>123.21</td>\n",
       "      <td>20571.91</td>\n",
       "      <td>2507881.36</td>\n",
       "    </tr>\n",
       "    <tr>\n",
       "      <th>2013-05-20</th>\n",
       "      <td>122.02</td>\n",
       "      <td>123.69</td>\n",
       "      <td>120.10</td>\n",
       "      <td>122.50</td>\n",
       "      <td>17316.21</td>\n",
       "      <td>2118341.03</td>\n",
       "    </tr>\n",
       "    <tr>\n",
       "      <th>2013-05-21</th>\n",
       "      <td>122.89</td>\n",
       "      <td>123.08</td>\n",
       "      <td>121.10</td>\n",
       "      <td>122.02</td>\n",
       "      <td>13386.53</td>\n",
       "      <td>1637410.81</td>\n",
       "    </tr>\n",
       "  </tbody>\n",
       "</table>\n",
       "</div>"
      ],
      "text/plain": [
       "             close    high     low    open  volumefrom    volumeto\n",
       "time                                                              \n",
       "2013-05-17  123.50  125.56  116.57  118.21    79123.93  9608029.60\n",
       "2013-05-18  123.21  125.31  122.25  123.50    22652.03  2804847.39\n",
       "2013-05-19  122.50  124.50  119.50  123.21    20571.91  2507881.36\n",
       "2013-05-20  122.02  123.69  120.10  122.50    17316.21  2118341.03\n",
       "2013-05-21  122.89  123.08  121.10  122.02    13386.53  1637410.81"
      ]
     },
     "execution_count": 17,
     "metadata": {},
     "output_type": "execute_result"
    }
   ],
   "source": [
    "# API of Cryptographic currency in json format\n",
    "url = 'https://min-api.cryptocompare.com/data/histoday'\n",
    "res = requests.get(url + '?fsym=BTC&tsym=USD&limit=2000')\n",
    "# AUD train model时，会出现loss = NAN的情况。但是不知道为什么\n",
    "hist = pd.DataFrame(json.loads(res.content)['Data'])\n",
    "hist = hist.set_index('time')\n",
    "hist.index = pd.to_datetime(hist.index, unit='s')\n",
    "hist.head()"
   ]
  },
  {
   "cell_type": "code",
   "execution_count": 504,
   "metadata": {},
   "outputs": [
    {
     "data": {
      "text/html": [
       "<div>\n",
       "<style scoped>\n",
       "    .dataframe tbody tr th:only-of-type {\n",
       "        vertical-align: middle;\n",
       "    }\n",
       "\n",
       "    .dataframe tbody tr th {\n",
       "        vertical-align: top;\n",
       "    }\n",
       "\n",
       "    .dataframe thead th {\n",
       "        text-align: right;\n",
       "    }\n",
       "</style>\n",
       "<table border=\"1\" class=\"dataframe\">\n",
       "  <thead>\n",
       "    <tr style=\"text-align: right;\">\n",
       "      <th></th>\n",
       "      <th>close</th>\n",
       "      <th>high</th>\n",
       "      <th>low</th>\n",
       "      <th>open</th>\n",
       "      <th>volumefrom</th>\n",
       "      <th>volumeto</th>\n",
       "    </tr>\n",
       "  </thead>\n",
       "  <tbody>\n",
       "    <tr>\n",
       "      <th>count</th>\n",
       "      <td>2001.000000</td>\n",
       "      <td>2001.000000</td>\n",
       "      <td>2001.000000</td>\n",
       "      <td>2001.000000</td>\n",
       "      <td>2001.000000</td>\n",
       "      <td>2.001000e+03</td>\n",
       "    </tr>\n",
       "    <tr>\n",
       "      <th>mean</th>\n",
       "      <td>2267.651699</td>\n",
       "      <td>2341.140505</td>\n",
       "      <td>2176.725112</td>\n",
       "      <td>2264.455552</td>\n",
       "      <td>61551.997286</td>\n",
       "      <td>2.218537e+08</td>\n",
       "    </tr>\n",
       "    <tr>\n",
       "      <th>std</th>\n",
       "      <td>3424.768387</td>\n",
       "      <td>3557.339130</td>\n",
       "      <td>3255.410394</td>\n",
       "      <td>3423.802713</td>\n",
       "      <td>56127.538954</td>\n",
       "      <td>4.937617e+08</td>\n",
       "    </tr>\n",
       "    <tr>\n",
       "      <th>min</th>\n",
       "      <td>68.500000</td>\n",
       "      <td>75.000000</td>\n",
       "      <td>65.420000</td>\n",
       "      <td>68.500000</td>\n",
       "      <td>404.380000</td>\n",
       "      <td>2.101127e+05</td>\n",
       "    </tr>\n",
       "    <tr>\n",
       "      <th>25%</th>\n",
       "      <td>321.120000</td>\n",
       "      <td>332.010000</td>\n",
       "      <td>309.480000</td>\n",
       "      <td>320.020000</td>\n",
       "      <td>22876.300000</td>\n",
       "      <td>8.409629e+06</td>\n",
       "    </tr>\n",
       "    <tr>\n",
       "      <th>50%</th>\n",
       "      <td>594.960000</td>\n",
       "      <td>604.870000</td>\n",
       "      <td>584.820000</td>\n",
       "      <td>593.140000</td>\n",
       "      <td>48026.760000</td>\n",
       "      <td>2.199148e+07</td>\n",
       "    </tr>\n",
       "    <tr>\n",
       "      <th>75%</th>\n",
       "      <td>2545.430000</td>\n",
       "      <td>2617.480000</td>\n",
       "      <td>2472.370000</td>\n",
       "      <td>2541.620000</td>\n",
       "      <td>83028.450000</td>\n",
       "      <td>2.103188e+08</td>\n",
       "    </tr>\n",
       "    <tr>\n",
       "      <th>max</th>\n",
       "      <td>19345.490000</td>\n",
       "      <td>19870.620000</td>\n",
       "      <td>18750.910000</td>\n",
       "      <td>19346.600000</td>\n",
       "      <td>517733.910000</td>\n",
       "      <td>6.245732e+09</td>\n",
       "    </tr>\n",
       "  </tbody>\n",
       "</table>\n",
       "</div>"
      ],
      "text/plain": [
       "              close          high           low          open     volumefrom  \\\n",
       "count   2001.000000   2001.000000   2001.000000   2001.000000    2001.000000   \n",
       "mean    2267.651699   2341.140505   2176.725112   2264.455552   61551.997286   \n",
       "std     3424.768387   3557.339130   3255.410394   3423.802713   56127.538954   \n",
       "min       68.500000     75.000000     65.420000     68.500000     404.380000   \n",
       "25%      321.120000    332.010000    309.480000    320.020000   22876.300000   \n",
       "50%      594.960000    604.870000    584.820000    593.140000   48026.760000   \n",
       "75%     2545.430000   2617.480000   2472.370000   2541.620000   83028.450000   \n",
       "max    19345.490000  19870.620000  18750.910000  19346.600000  517733.910000   \n",
       "\n",
       "           volumeto  \n",
       "count  2.001000e+03  \n",
       "mean   2.218537e+08  \n",
       "std    4.937617e+08  \n",
       "min    2.101127e+05  \n",
       "25%    8.409629e+06  \n",
       "50%    2.199148e+07  \n",
       "75%    2.103188e+08  \n",
       "max    6.245732e+09  "
      ]
     },
     "execution_count": 504,
     "metadata": {},
     "output_type": "execute_result"
    }
   ],
   "source": [
    "hist.describe()"
   ]
  },
  {
   "cell_type": "markdown",
   "metadata": {},
   "source": [
    "#### Now set close price as target data, and later we will add price gap into model"
   ]
  },
  {
   "cell_type": "code",
   "execution_count": 18,
   "metadata": {},
   "outputs": [],
   "source": [
    "target_col = 'close'"
   ]
  },
  {
   "cell_type": "markdown",
   "metadata": {},
   "source": [
    "# Split training and test dataset"
   ]
  },
  {
   "cell_type": "markdown",
   "metadata": {},
   "source": [
    "80% is used for training, 20% is used for testing."
   ]
  },
  {
   "cell_type": "code",
   "execution_count": 19,
   "metadata": {},
   "outputs": [],
   "source": [
    "# def train_test_split(df, test_size=0.5):\n",
    "#     split_row = len(df) - int(test_size * len(df))\n",
    "#     train_data = df.iloc[:split_row]\n",
    "#     test_data = df.iloc[split_row:]\n",
    "#     return train_data, test_data"
   ]
  },
  {
   "cell_type": "markdown",
   "metadata": {},
   "source": [
    "set train dataset and test dataset by specific date"
   ]
  },
  {
   "cell_type": "code",
   "execution_count": 468,
   "metadata": {},
   "outputs": [],
   "source": [
    "from datetime import datetime,timedelta\n",
    "import pandas as pd\n",
    "date = datetime(year=2018, month=9, day=14)\n",
    "date_train_begin = date - timedelta(days=270)\n",
    "date_train_end = date\n",
    "date_test_begin = date-timedelta(days=7)\n",
    "date_test_end = date+timedelta(days=6)\n",
    "train_data = hist.loc[date_train_begin:date_train_end]\n",
    "test_data = hist.loc[date_test_begin:date_test_end]"
   ]
  },
  {
   "cell_type": "code",
   "execution_count": 469,
   "metadata": {},
   "outputs": [
    {
     "data": {
      "text/plain": [
       "datetime.datetime(2017, 12, 18, 0, 0)"
      ]
     },
     "execution_count": 469,
     "metadata": {},
     "output_type": "execute_result"
    }
   ],
   "source": [
    "date_train_begin"
   ]
  },
  {
   "cell_type": "code",
   "execution_count": 470,
   "metadata": {},
   "outputs": [
    {
     "name": "stdout",
     "output_type": "stream",
     "text": [
      "traindata shape(271, 6)\n",
      "testdata shape(14, 6)\n"
     ]
    }
   ],
   "source": [
    "print(\"traindata shape\"+str(train_data.shape)+'\\n'+'testdata shape'+str(test_data.shape))"
   ]
  },
  {
   "cell_type": "markdown",
   "metadata": {},
   "source": [
    "# Build LSTM Model"
   ]
  },
  {
   "cell_type": "markdown",
   "metadata": {},
   "source": [
    "#### Normalization"
   ]
  },
  {
   "cell_type": "markdown",
   "metadata": {},
   "source": [
    "As the model does not ought to predict future price, but future change percentage."
   ]
  },
  {
   "cell_type": "code",
   "execution_count": 471,
   "metadata": {},
   "outputs": [],
   "source": [
    "def normalise_zero_base(df):\n",
    "    \"\"\" Normalise dataframe column-wise to reflect changes with respect to first entry. \"\"\"\n",
    "    return df / df.iloc[0] - 1\n",
    "\n",
    "def normalise_min_max(df):\n",
    "    \"\"\" Normalise dataframe column-wise min/max. \"\"\"\n",
    "    return (df - df.min()) / (data.max() - df.min())"
   ]
  },
  {
   "cell_type": "markdown",
   "metadata": {},
   "source": [
    "#### smoothed data for average-7-days"
   ]
  },
  {
   "cell_type": "code",
   "execution_count": 472,
   "metadata": {},
   "outputs": [],
   "source": [
    "def extract_window_data(df, window_len, zero_base=True):\n",
    "    \"\"\" Convert dataframe to overlapping sequences/windows of len `window_data`.\n",
    "    \n",
    "        :param window_len: Size of window\n",
    "        :param zero_base: If True, the data in each window is normalised to reflect changes\n",
    "            with respect to the first entry in the window (which is then always 0)\n",
    "    \"\"\"\n",
    "    window_data = []\n",
    "    for idx in range(len(df) - window_len):\n",
    "        tmp = df[idx: (idx + window_len)].copy()\n",
    "        if zero_base:\n",
    "            tmp = normalise_zero_base(tmp)\n",
    "        window_data.append(tmp.values)\n",
    "#         print('window_data shape'+len(window_data.shape))\n",
    "    return np.array(window_data)"
   ]
  },
  {
   "cell_type": "code",
   "execution_count": 473,
   "metadata": {},
   "outputs": [],
   "source": [
    "def prepare_data(df, target_col, window_len, zero_base=True, test_size):\n",
    "    \"\"\" Prepare data for LSTM. \"\"\"\n",
    "    \n",
    "    # extract window data\n",
    "    X_train = extract_window_data(train_data, window_len, zero_base)\n",
    "    X_test = extract_window_data(test_data, window_len, zero_base)\n",
    "    \n",
    "    # extract targets\n",
    "    y_train = train_data[target_col][window_len:].values\n",
    "    y_test = test_data[target_col][window_len:].values\n",
    "    if zero_base:\n",
    "        y_train = y_train / train_data[target_col][:-window_len].values - 1\n",
    "        y_test = y_test / test_data[target_col][:-window_len].values - 1\n",
    "\n",
    "    return train_data, test_data, X_train, X_test, y_train, y_test"
   ]
  },
  {
   "cell_type": "markdown",
   "metadata": {},
   "source": [
    "#### 1 layer LSTM model"
   ]
  },
  {
   "cell_type": "code",
   "execution_count": 474,
   "metadata": {},
   "outputs": [],
   "source": [
    "def build_lstm_model(input_data, output_size, neurons=20, activ_func='linear',\n",
    "                     dropout=0.25, loss='mae', optimizer='adam'):\n",
    "    model = Sequential()\n",
    "    print('input_data.shape'+str(input_data.shape))\n",
    "    # input shape = (window length,window length - 1)\n",
    "    # input shape tutorial: https://yq.aliyun.com/articles/194956\n",
    "    model.add(LSTM(neurons, input_shape=(input_data.shape[1], input_data.shape[2])))\n",
    "    model.add(Dropout(dropout))\n",
    "    model.add(Dense(units=output_size))\n",
    "    model.add(Activation(activ_func))\n",
    "\n",
    "    model.compile(loss=loss, optimizer=optimizer)\n",
    "    return model"
   ]
  },
  {
   "cell_type": "code",
   "execution_count": 475,
   "metadata": {},
   "outputs": [],
   "source": [
    "np.random.seed(42)\n",
    "\n",
    "# data params\n",
    "window_len = 7\n",
    "test_size = 0.1\n",
    "zero_base = True\n",
    "\n",
    "# model params\n",
    "lstm_neurons = 20\n",
    "epochs = 50\n",
    "batch_size = 4\n",
    "loss = 'mae'\n",
    "dropout = 0.25\n",
    "optimizer = 'adam'"
   ]
  },
  {
   "cell_type": "code",
   "execution_count": 476,
   "metadata": {},
   "outputs": [],
   "source": [
    "train, test, X_train, X_test, y_train, y_test = prepare_data(\n",
    "    hist, target_col, window_len=window_len, zero_base=zero_base, test_size=test_size)"
   ]
  },
  {
   "cell_type": "code",
   "execution_count": 477,
   "metadata": {},
   "outputs": [
    {
     "data": {
      "text/plain": [
       "(264, 7, 6)"
      ]
     },
     "execution_count": 477,
     "metadata": {},
     "output_type": "execute_result"
    }
   ],
   "source": [
    "# 264 是样本个数\n",
    "# 6是因为原来的dataframe有6列,6是特征个数\n",
    "# 3D：LSTM input\n",
    "X_train.shape"
   ]
  },
  {
   "cell_type": "code",
   "execution_count": 478,
   "metadata": {},
   "outputs": [
    {
     "data": {
      "text/plain": [
       "(7, 7, 6)"
      ]
     },
     "execution_count": 478,
     "metadata": {},
     "output_type": "execute_result"
    }
   ],
   "source": [
    "X_test.shape"
   ]
  },
  {
   "cell_type": "code",
   "execution_count": 479,
   "metadata": {},
   "outputs": [
    {
     "name": "stdout",
     "output_type": "stream",
     "text": [
      "input_data.shape(264, 7, 6)\n",
      "Epoch 1/50\n",
      "264/264 [==============================] - 4s 13ms/step - loss: 0.1041\n",
      "Epoch 2/50\n",
      "264/264 [==============================] - 1s 2ms/step - loss: 0.0774\n",
      "Epoch 3/50\n",
      "264/264 [==============================] - 1s 3ms/step - loss: 0.0620\n",
      "Epoch 4/50\n",
      "264/264 [==============================] - 1s 3ms/step - loss: 0.0601\n",
      "Epoch 5/50\n",
      "264/264 [==============================] - 1s 3ms/step - loss: 0.0585\n",
      "Epoch 6/50\n",
      "264/264 [==============================] - 1s 3ms/step - loss: 0.0542\n",
      "Epoch 7/50\n",
      "264/264 [==============================] - 1s 3ms/step - loss: 0.0550\n",
      "Epoch 8/50\n",
      "264/264 [==============================] - 1s 3ms/step - loss: 0.0517\n",
      "Epoch 9/50\n",
      "264/264 [==============================] - 1s 3ms/step - loss: 0.0506\n",
      "Epoch 10/50\n",
      "264/264 [==============================] - 1s 3ms/step - loss: 0.0476\n",
      "Epoch 11/50\n",
      "264/264 [==============================] - 1s 3ms/step - loss: 0.0469\n",
      "Epoch 12/50\n",
      "264/264 [==============================] - 1s 3ms/step - loss: 0.0480\n",
      "Epoch 13/50\n",
      "264/264 [==============================] - 1s 3ms/step - loss: 0.0460\n",
      "Epoch 14/50\n",
      "264/264 [==============================] - 1s 3ms/step - loss: 0.0452\n",
      "Epoch 15/50\n",
      "264/264 [==============================] - 1s 3ms/step - loss: 0.0451\n",
      "Epoch 16/50\n",
      "264/264 [==============================] - 1s 3ms/step - loss: 0.0435\n",
      "Epoch 17/50\n",
      "264/264 [==============================] - 1s 3ms/step - loss: 0.0420\n",
      "Epoch 18/50\n",
      "264/264 [==============================] - 1s 3ms/step - loss: 0.0453\n",
      "Epoch 19/50\n",
      "264/264 [==============================] - 1s 3ms/step - loss: 0.0413\n",
      "Epoch 20/50\n",
      "264/264 [==============================] - 1s 3ms/step - loss: 0.0433\n",
      "Epoch 21/50\n",
      "264/264 [==============================] - 1s 3ms/step - loss: 0.0398\n",
      "Epoch 22/50\n",
      "264/264 [==============================] - 1s 3ms/step - loss: 0.0421\n",
      "Epoch 23/50\n",
      "264/264 [==============================] - 1s 4ms/step - loss: 0.0406\n"
     ]
    }
   ],
   "source": [
    "from keras.callbacks import EarlyStopping\n",
    "\n",
    "# patience=2: 两次loss连续上升就会停止\n",
    "early_stopping = EarlyStopping(monitor='loss', patience=2)\n",
    "\n",
    "model = build_lstm_model(X_train, output_size=1, neurons=lstm_neurons, dropout=dropout, loss=loss, optimizer=optimizer)\n",
    "# 即使加入更多的维度/比如4个价格，只要确定了y_train,得到预测的变化值后，乘回来就可以了\n",
    "history = model.fit(X_train, y_train, epochs=epochs, batch_size=batch_size, \n",
    "                    verbose=1, shuffle=True,callbacks=[early_stopping])"
   ]
  },
  {
   "cell_type": "code",
   "execution_count": 501,
   "metadata": {},
   "outputs": [
    {
     "data": {
      "text/plain": [
       "(264, 7, 6)"
      ]
     },
     "execution_count": 501,
     "metadata": {},
     "output_type": "execute_result"
    }
   ],
   "source": [
    "# input_shape: 3D tensor with shape (batch_size, timesteps, input_dim)\n",
    "# 但很明显，这并不是\n",
    "X_train.shape"
   ]
  },
  {
   "cell_type": "markdown",
   "metadata": {},
   "source": [
    "# Prediction"
   ]
  },
  {
   "cell_type": "code",
   "execution_count": 480,
   "metadata": {},
   "outputs": [
    {
     "data": {
      "text/plain": [
       "array([[ 0.0072877 ],\n",
       "       [ 0.04797451],\n",
       "       [ 0.04911656],\n",
       "       [ 0.04202272],\n",
       "       [ 0.01559135],\n",
       "       [ 0.00431414],\n",
       "       [-0.01848166]], dtype=float32)"
      ]
     },
     "execution_count": 480,
     "metadata": {},
     "output_type": "execute_result"
    }
   ],
   "source": [
    "preds = model.predict(X_test)\n",
    "preds"
   ]
  },
  {
   "cell_type": "code",
   "execution_count": 481,
   "metadata": {},
   "outputs": [
    {
     "data": {
      "text/plain": [
       "array([ 0.0072877 ,  0.04797451,  0.04911656,  0.04202272,  0.01559135,\n",
       "        0.00431414, -0.01848166], dtype=float32)"
      ]
     },
     "execution_count": 481,
     "metadata": {},
     "output_type": "execute_result"
    }
   ],
   "source": [
    "preds = model.predict(X_test).squeeze()\n",
    "preds"
   ]
  },
  {
   "cell_type": "code",
   "execution_count": 482,
   "metadata": {},
   "outputs": [
    {
     "data": {
      "text/plain": [
       "(7,)"
      ]
     },
     "execution_count": 482,
     "metadata": {},
     "output_type": "execute_result"
    }
   ],
   "source": [
    "targets = test[target_col][window_len:]\n",
    "targets.shape"
   ]
  },
  {
   "cell_type": "code",
   "execution_count": 483,
   "metadata": {},
   "outputs": [
    {
     "data": {
      "text/plain": [
       "(7,)"
      ]
     },
     "execution_count": 483,
     "metadata": {},
     "output_type": "execute_result"
    }
   ],
   "source": [
    "# 由第0天乘以训练出来的预测率，预测第7天\n",
    "preds = test[target_col].values[:-window_len] * (preds + 1)\n",
    "preds.shape"
   ]
  },
  {
   "cell_type": "code",
   "execution_count": 484,
   "metadata": {},
   "outputs": [
    {
     "data": {
      "text/plain": [
       "time\n",
       "2018-09-14    6486.01\n",
       "2018-09-15    6522.08\n",
       "2018-09-16    6502.44\n",
       "2018-09-17    6261.48\n",
       "2018-09-18    6346.44\n",
       "2018-09-19    6398.80\n",
       "2018-09-20    6505.90\n",
       "Name: close, dtype: float64"
      ]
     },
     "execution_count": 484,
     "metadata": {},
     "output_type": "execute_result"
    }
   ],
   "source": [
    "# targets是由test进行乘法计算得到的，所以依然保持了test的index\n",
    "targets"
   ]
  },
  {
   "cell_type": "code",
   "execution_count": 485,
   "metadata": {},
   "outputs": [
    {
     "data": {
      "text/plain": [
       "array([6458.50739011, 6497.60937304, 6556.00314331, 6590.19965668,\n",
       "       6393.69617521, 6364.44945976, 6372.01698661])"
      ]
     },
     "execution_count": 485,
     "metadata": {},
     "output_type": "execute_result"
    }
   ],
   "source": [
    "preds"
   ]
  },
  {
   "cell_type": "code",
   "execution_count": 486,
   "metadata": {},
   "outputs": [],
   "source": [
    "def line_plot(line1, line2, label1=None, label2=None, title='', lw=2):\n",
    "    fig, ax = plt.subplots(1, figsize=(8, 4))\n",
    "    ax.plot(line1, label=label1, linewidth=lw)\n",
    "    ax.plot(line2, label=label2, linewidth=lw)\n",
    "    ax.set_ylabel('price [AUD]', fontsize=14)\n",
    "    ax.set_title(title, fontsize=18)\n",
    "    ax.legend(loc='best', fontsize=18);"
   ]
  },
  {
   "cell_type": "code",
   "execution_count": 487,
   "metadata": {},
   "outputs": [
    {
     "data": {
      "image/png": "[encoded data removed]",
      "text/plain": [
       "<Figure size 576x288 with 1 Axes>"
      ]
     },
     "metadata": {},
     "output_type": "display_data"
    }
   ],
   "source": [
    "preds = pd.Series(index=targets.index, data=preds)\n",
    "line_plot(targets, preds,'actual', 'prediction','7 days prediction', lw=3)"
   ]
  },
  {
   "cell_type": "code",
   "execution_count": 488,
   "metadata": {},
   "outputs": [
    {
     "name": "stdout",
     "output_type": "stream",
     "text": [
      "138.16066999070807\n"
     ]
    }
   ],
   "source": [
    "import math\n",
    "from sklearn.metrics import mean_squared_error\n",
    "mse = mean_squared_error(targets, preds)\n",
    "rmse = math.sqrt(mse)\n",
    "print(rmse)"
   ]
  },
  {
   "cell_type": "code",
   "execution_count": 489,
   "metadata": {},
   "outputs": [
    {
     "data": {
      "text/html": [
       "<div>\n",
       "<style scoped>\n",
       "    .dataframe tbody tr th:only-of-type {\n",
       "        vertical-align: middle;\n",
       "    }\n",
       "\n",
       "    .dataframe tbody tr th {\n",
       "        vertical-align: top;\n",
       "    }\n",
       "\n",
       "    .dataframe thead th {\n",
       "        text-align: right;\n",
       "    }\n",
       "</style>\n",
       "<table border=\"1\" class=\"dataframe\">\n",
       "  <thead>\n",
       "    <tr style=\"text-align: right;\">\n",
       "      <th></th>\n",
       "      <th>targets</th>\n",
       "      <th>preds</th>\n",
       "      <th>rmse</th>\n",
       "    </tr>\n",
       "    <tr>\n",
       "      <th>time</th>\n",
       "      <th></th>\n",
       "      <th></th>\n",
       "      <th></th>\n",
       "    </tr>\n",
       "  </thead>\n",
       "  <tbody>\n",
       "    <tr>\n",
       "      <th>2018-09-14</th>\n",
       "      <td>6486.01</td>\n",
       "      <td>6458.507390</td>\n",
       "      <td>138.16067</td>\n",
       "    </tr>\n",
       "    <tr>\n",
       "      <th>2018-09-15</th>\n",
       "      <td>6522.08</td>\n",
       "      <td>6497.609373</td>\n",
       "      <td>138.16067</td>\n",
       "    </tr>\n",
       "    <tr>\n",
       "      <th>2018-09-16</th>\n",
       "      <td>6502.44</td>\n",
       "      <td>6556.003143</td>\n",
       "      <td>138.16067</td>\n",
       "    </tr>\n",
       "    <tr>\n",
       "      <th>2018-09-17</th>\n",
       "      <td>6261.48</td>\n",
       "      <td>6590.199657</td>\n",
       "      <td>138.16067</td>\n",
       "    </tr>\n",
       "    <tr>\n",
       "      <th>2018-09-18</th>\n",
       "      <td>6346.44</td>\n",
       "      <td>6393.696175</td>\n",
       "      <td>138.16067</td>\n",
       "    </tr>\n",
       "    <tr>\n",
       "      <th>2018-09-19</th>\n",
       "      <td>6398.80</td>\n",
       "      <td>6364.449460</td>\n",
       "      <td>138.16067</td>\n",
       "    </tr>\n",
       "    <tr>\n",
       "      <th>2018-09-20</th>\n",
       "      <td>6505.90</td>\n",
       "      <td>6372.016987</td>\n",
       "      <td>138.16067</td>\n",
       "    </tr>\n",
       "  </tbody>\n",
       "</table>\n",
       "</div>"
      ],
      "text/plain": [
       "            targets        preds       rmse\n",
       "time                                       \n",
       "2018-09-14  6486.01  6458.507390  138.16067\n",
       "2018-09-15  6522.08  6497.609373  138.16067\n",
       "2018-09-16  6502.44  6556.003143  138.16067\n",
       "2018-09-17  6261.48  6590.199657  138.16067\n",
       "2018-09-18  6346.44  6393.696175  138.16067\n",
       "2018-09-19  6398.80  6364.449460  138.16067\n",
       "2018-09-20  6505.90  6372.016987  138.16067"
      ]
     },
     "execution_count": 489,
     "metadata": {},
     "output_type": "execute_result"
    }
   ],
   "source": [
    "file = pd.concat([targets, preds],axis=1)\n",
    "file.columns = ['targets', 'preds']\n",
    "file['rmse'] = rmse\n",
    "file"
   ]
  },
  {
   "cell_type": "markdown",
   "metadata": {},
   "source": [
    "### 以上，模型用了window_len进行平移，也就是说，其实还是用了真实的值，预测下一天的值。比如第7天的值，是用前7天的test值进行预测的，所以严格意义上来说，这个模型太简单"
   ]
  },
  {
   "cell_type": "code",
   "execution_count": 1,
   "metadata": {},
   "outputs": [
    {
     "data": {
      "text/plain": [
       "8"
      ]
     },
     "execution_count": 1,
     "metadata": {},
     "output_type": "execute_result"
    }
   ],
   "source": [
    "int(8.5)"
   ]
  },
  {
   "cell_type": "code",
   "execution_count": 2,
   "metadata": {},
   "outputs": [
    {
     "data": {
      "text/plain": [
       "8"
      ]
     },
     "execution_count": 2,
     "metadata": {},
     "output_type": "execute_result"
    }
   ],
   "source": [
    "int(8.6)"
   ]
  },
  {
   "cell_type": "code",
   "execution_count": 6,
   "metadata": {},
   "outputs": [],
   "source": [
    "from pandas import DataFrame\n",
    "import pandas as pd\n",
    "d1 = pd.DataFrame([\n",
    "    [1, 2, 3],\n",
    "    [4, 5, 6],\n",
    "    [7, 8, 9]\n",
    "])"
   ]
  },
  {
   "cell_type": "code",
   "execution_count": 7,
   "metadata": {},
   "outputs": [
    {
     "data": {
      "text/html": [
       "<div>\n",
       "<style scoped>\n",
       "    .dataframe tbody tr th:only-of-type {\n",
       "        vertical-align: middle;\n",
       "    }\n",
       "\n",
       "    .dataframe tbody tr th {\n",
       "        vertical-align: top;\n",
       "    }\n",
       "\n",
       "    .dataframe thead th {\n",
       "        text-align: right;\n",
       "    }\n",
       "</style>\n",
       "<table border=\"1\" class=\"dataframe\">\n",
       "  <thead>\n",
       "    <tr style=\"text-align: right;\">\n",
       "      <th></th>\n",
       "      <th>0</th>\n",
       "      <th>1</th>\n",
       "      <th>2</th>\n",
       "    </tr>\n",
       "  </thead>\n",
       "  <tbody>\n",
       "    <tr>\n",
       "      <th>0</th>\n",
       "      <td>1</td>\n",
       "      <td>2</td>\n",
       "      <td>3</td>\n",
       "    </tr>\n",
       "    <tr>\n",
       "      <th>1</th>\n",
       "      <td>4</td>\n",
       "      <td>5</td>\n",
       "      <td>6</td>\n",
       "    </tr>\n",
       "    <tr>\n",
       "      <th>2</th>\n",
       "      <td>7</td>\n",
       "      <td>8</td>\n",
       "      <td>9</td>\n",
       "    </tr>\n",
       "  </tbody>\n",
       "</table>\n",
       "</div>"
      ],
      "text/plain": [
       "   0  1  2\n",
       "0  1  2  3\n",
       "1  4  5  6\n",
       "2  7  8  9"
      ]
     },
     "execution_count": 7,
     "metadata": {},
     "output_type": "execute_result"
    }
   ],
   "source": [
    "d1"
   ]
  },
  {
   "cell_type": "code",
   "execution_count": 8,
   "metadata": {},
   "outputs": [],
   "source": [
    "time=[1,2,3]\n",
    "d1['time'] = time"
   ]
  },
  {
   "cell_type": "code",
   "execution_count": 9,
   "metadata": {},
   "outputs": [
    {
     "data": {
      "text/html": [
       "<div>\n",
       "<style scoped>\n",
       "    .dataframe tbody tr th:only-of-type {\n",
       "        vertical-align: middle;\n",
       "    }\n",
       "\n",
       "    .dataframe tbody tr th {\n",
       "        vertical-align: top;\n",
       "    }\n",
       "\n",
       "    .dataframe thead th {\n",
       "        text-align: right;\n",
       "    }\n",
       "</style>\n",
       "<table border=\"1\" class=\"dataframe\">\n",
       "  <thead>\n",
       "    <tr style=\"text-align: right;\">\n",
       "      <th></th>\n",
       "      <th>0</th>\n",
       "      <th>1</th>\n",
       "      <th>2</th>\n",
       "      <th>time</th>\n",
       "    </tr>\n",
       "  </thead>\n",
       "  <tbody>\n",
       "    <tr>\n",
       "      <th>0</th>\n",
       "      <td>1</td>\n",
       "      <td>2</td>\n",
       "      <td>3</td>\n",
       "      <td>1</td>\n",
       "    </tr>\n",
       "    <tr>\n",
       "      <th>1</th>\n",
       "      <td>4</td>\n",
       "      <td>5</td>\n",
       "      <td>6</td>\n",
       "      <td>2</td>\n",
       "    </tr>\n",
       "    <tr>\n",
       "      <th>2</th>\n",
       "      <td>7</td>\n",
       "      <td>8</td>\n",
       "      <td>9</td>\n",
       "      <td>3</td>\n",
       "    </tr>\n",
       "  </tbody>\n",
       "</table>\n",
       "</div>"
      ],
      "text/plain": [
       "   0  1  2  time\n",
       "0  1  2  3     1\n",
       "1  4  5  6     2\n",
       "2  7  8  9     3"
      ]
     },
     "execution_count": 9,
     "metadata": {},
     "output_type": "execute_result"
    }
   ],
   "source": [
    "d1"
   ]
  },
  {
   "cell_type": "code",
   "execution_count": 10,
   "metadata": {},
   "outputs": [
    {
     "data": {
      "text/plain": [
       "list"
      ]
     },
     "execution_count": 10,
     "metadata": {},
     "output_type": "execute_result"
    }
   ],
   "source": [
    "type(time)"
   ]
  },
  {
   "cell_type": "code",
   "execution_count": null,
   "metadata": {},
   "outputs": [],
   "source": []
  }
 ],
 "metadata": {
  "kernelspec": {
   "display_name": "Python 3",
   "language": "python",
   "name": "python3"
  },
  "language_info": {
   "codemirror_mode": {
    "name": "ipython",
    "version": 3
   },
   "file_extension": ".py",
   "mimetype": "text/x-python",
   "name": "python",
   "nbconvert_exporter": "python",
   "pygments_lexer": "ipython3",
   "version": "3.6.5"
  }
 },
 "nbformat": 4,
 "nbformat_minor": 2
}
